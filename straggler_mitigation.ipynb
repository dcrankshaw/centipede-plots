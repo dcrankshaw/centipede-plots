{
 "cells": [
  {
   "cell_type": "code",
   "execution_count": 40,
   "metadata": {
    "collapsed": false
   },
   "outputs": [
    {
     "name": "stdout",
     "output_type": "stream",
     "text": [
      "['ensemble_size_10_160914-004737_results.json', 'ensemble_size_10_trial_1_160914-102500_results.json', 'ensemble_size_10_trial_2_160914-105924_results.json', 'ensemble_size_10_trial_3_160914-113336_results.json', 'ensemble_size_10_trial_4_160914-120719_results.json', 'ensemble_size_10_trial_5_160914-124133_results.json', 'ensemble_size_12_160914-005036_results.json', 'ensemble_size_12_trial_1_160914-102800_results.json', 'ensemble_size_12_trial_2_160914-110225_results.json', 'ensemble_size_12_trial_3_160914-113636_results.json', 'ensemble_size_12_trial_4_160914-121020_results.json', 'ensemble_size_12_trial_5_160914-124435_results.json', 'ensemble_size_14_160914-005340_results.json', 'ensemble_size_14_trial_1_160914-103103_results.json', 'ensemble_size_14_trial_2_160914-110529_results.json', 'ensemble_size_14_trial_3_160914-113939_results.json', 'ensemble_size_14_trial_4_160914-121325_results.json', 'ensemble_size_14_trial_5_160914-124740_results.json', 'ensemble_size_16_160914-005656_results.json', 'ensemble_size_16_trial_1_160914-103429_results.json', 'ensemble_size_16_trial_2_160914-110846_results.json', 'ensemble_size_16_trial_3_160914-114250_results.json', 'ensemble_size_16_trial_4_160914-121641_results.json', 'ensemble_size_16_trial_5_160914-125059_results.json', 'ensemble_size_18_160914-010028_results.json', 'ensemble_size_18_trial_1_160914-103809_results.json', 'ensemble_size_18_trial_2_160914-111213_results.json', 'ensemble_size_18_trial_3_160914-114605_results.json', 'ensemble_size_18_trial_4_160914-122010_results.json', 'ensemble_size_18_trial_5_160914-125438_results.json', 'ensemble_size_1_160914-003301_results.json', 'ensemble_size_1_trial_1_160914-101027_results.json', 'ensemble_size_1_trial_2_160914-104449_results.json', 'ensemble_size_1_trial_3_160914-111902_results.json', 'ensemble_size_1_trial_4_160914-115243_results.json', 'ensemble_size_1_trial_5_160914-122658_results.json', 'ensemble_size_20_160914-010351_results.json', 'ensemble_size_20_trial_1_160914-104137_results.json', 'ensemble_size_20_trial_2_160914-111550_results.json', 'ensemble_size_20_trial_3_160914-114934_results.json', 'ensemble_size_20_trial_4_160914-122337_results.json', 'ensemble_size_20_trial_5_160914-125816_results.json', 'ensemble_size_2_160914-003553_results.json', 'ensemble_size_2_trial_1_160914-101318_results.json', 'ensemble_size_2_trial_2_160914-104741_results.json', 'ensemble_size_2_trial_3_160914-112154_results.json', 'ensemble_size_2_trial_4_160914-115535_results.json', 'ensemble_size_2_trial_5_160914-122950_results.json', 'ensemble_size_4_160914-003847_results.json', 'ensemble_size_4_trial_1_160914-101611_results.json', 'ensemble_size_4_trial_2_160914-105034_results.json', 'ensemble_size_4_trial_3_160914-112447_results.json', 'ensemble_size_4_trial_4_160914-115828_results.json', 'ensemble_size_4_trial_5_160914-123243_results.json', 'ensemble_size_6_160914-004142_results.json', 'ensemble_size_6_trial_1_160914-101906_results.json', 'ensemble_size_6_trial_2_160914-105329_results.json', 'ensemble_size_6_trial_3_160914-112742_results.json', 'ensemble_size_6_trial_4_160914-120124_results.json', 'ensemble_size_6_trial_5_160914-123539_results.json', 'ensemble_size_8_160914-004438_results.json', 'ensemble_size_8_trial_1_160914-102202_results.json', 'ensemble_size_8_trial_2_160914-105625_results.json', 'ensemble_size_8_trial_3_160914-113038_results.json', 'ensemble_size_8_trial_4_160914-120421_results.json', 'ensemble_size_8_trial_5_160914-123835_results.json']\n"
     ]
    }
   ],
   "source": [
    "import json\n",
    "import numpy as np\n",
    "import matplotlib.pyplot as plt\n",
    "import os\n",
    "import pandas as pd\n",
    "import sys\n",
    "import seaborn as sns\n",
    "sns.set_style(\"white\")\n",
    "sns.set_context(\"paper\", font_scale=1.8,)\n",
    "%matplotlib inline\n",
    "fig_dir = \"/Users/crankshaw/model-serving/clipper_paper/ModelServingPaper/nsdi_2017/fake-figs\"\n",
    "\n",
    "log_loc = os.path.abspath(\"/Users/crankshaw/clipper/experiments_logs/straggler_mitigation\")\n",
    "\n",
    "results_files = []\n",
    "for name in os.listdir(log_loc):\n",
    "    if \"results\" in name:\n",
    "        results_files.append(name)\n",
    "\n",
    "exp_names = [f.split(\"_results\")[0] for f in results_files]\n",
    "# print exp_names\n",
    "print results_files"
   ]
  },
  {
   "cell_type": "code",
   "execution_count": 41,
   "metadata": {
    "collapsed": false,
    "scrolled": true
   },
   "outputs": [
    {
     "data": {
      "text/plain": [
       "[None,\n",
       " None,\n",
       " None,\n",
       " None,\n",
       " None,\n",
       " None,\n",
       " None,\n",
       " None,\n",
       " None,\n",
       " None,\n",
       " None,\n",
       " None,\n",
       " None,\n",
       " None,\n",
       " None,\n",
       " None,\n",
       " None,\n",
       " None,\n",
       " None,\n",
       " None,\n",
       " None,\n",
       " None,\n",
       " None,\n",
       " None,\n",
       " None,\n",
       " None,\n",
       " None,\n",
       " None,\n",
       " None,\n",
       " None,\n",
       " None,\n",
       " None,\n",
       " None,\n",
       " None,\n",
       " None,\n",
       " None,\n",
       " None,\n",
       " None,\n",
       " None,\n",
       " None,\n",
       " None,\n",
       " None,\n",
       " None,\n",
       " None,\n",
       " None,\n",
       " None,\n",
       " None,\n",
       " None,\n",
       " None,\n",
       " None,\n",
       " None,\n",
       " None,\n",
       " None,\n",
       " None,\n",
       " None,\n",
       " None,\n",
       " None,\n",
       " None,\n",
       " None,\n",
       " None,\n",
       " None,\n",
       " None,\n",
       " None,\n",
       " None,\n",
       " None,\n",
       " None]"
      ]
     },
     "execution_count": 41,
     "metadata": {},
     "output_type": "execute_result"
    }
   ],
   "source": [
    "\n",
    "def extract_results(i, df, fname):\n",
    "    with open(os.path.join(log_loc, fname), \"r\") as f:\n",
    "        ensemble_size = int(fname.split(\"_\")[2])\n",
    "#         print fname\n",
    "        res = json.load(f)\n",
    "        clipper_p99 = [m[\"p99\"] for m in res[\"histograms\"] if \"prediction_latency\" in m[\"name\"]][0]\n",
    "        blocking_p99 = [m[\"p99\"] for m in res[\"histograms\"] if \"straggler_blocking_prediction_latency\" in m[\"name\"]][0]\n",
    "        clipper_mean = [m[\"mean\"] for m in res[\"histograms\"] if \"prediction_latency\" in m[\"name\"]][0]\n",
    "        blocking_mean = [m[\"mean\"] for m in res[\"histograms\"] if \"straggler_blocking_prediction_latency\" in m[\"name\"]][0]\n",
    "        if ensemble_size < 18:\n",
    "            df.loc[i] = [ensemble_size, clipper_mean, clipper_p99, blocking_mean, blocking_p99]\n",
    "\n",
    "df = pd.DataFrame(columns=(\"ensemble_size\", \"clipper_mean_lat\", \"clipper_p99\", \"blocking_mean_lat\", \"blocking_p99\"))\n",
    "[extract_results(i, df, r) for (i,r) in enumerate(results_files)]\n",
    "# for r in results_files:\n",
    "#     extract_results(i, df, r)"
   ]
  },
  {
   "cell_type": "code",
   "execution_count": 94,
   "metadata": {
    "collapsed": false
   },
   "outputs": [
    {
     "name": "stdout",
     "output_type": "stream",
     "text": [
      "[  1.   2.   4.   6.   8.  10.  12.  14.  16.]\n",
      "[ 17021.47833333  17043.935       17119.16        17269.88666667  17479.315\n",
      "  18313.23333333  19735.32166667  21738.91833333  22961.4       ]\n"
     ]
    },
    {
     "data": {
      "text/plain": [
       "Index([u'clipper_p99', u'clipper_p99', u'blocking_mean_lat',\n",
       "       u'blocking_mean_lat', u'blocking_p99', u'blocking_p99',\n",
       "       u'clipper_mean_lat', u'clipper_mean_lat'],\n",
       "      dtype='object')"
      ]
     },
     "execution_count": 94,
     "metadata": {},
     "output_type": "execute_result"
    }
   ],
   "source": [
    "df.sort_values(\"ensemble_size\", inplace=True)\n",
    "f = {'clipper_mean_lat':['mean','std'], 'clipper_p99':['mean','std'], 'blocking_mean_lat':['mean','std'], 'blocking_p99':['mean','std'],}\n",
    "tgs = df.groupby(\"ensemble_size\").agg(f)\n",
    "print tgs.index.values\n",
    "print tgs[\"clipper_p99\",\"mean\"].values\n",
    "tgs.columns.get_level_values(0)"
   ]
  },
  {
   "cell_type": "code",
   "execution_count": 102,
   "metadata": {
    "collapsed": false
   },
   "outputs": [
    {
     "data": {
      "text/plain": [
       "<matplotlib.text.Text at 0x117f0c410>"
      ]
     },
     "execution_count": 102,
     "metadata": {},
     "output_type": "execute_result"
    },
    {
     "data": {
      "image/png": "[encoded data removed]",
      "text/plain": [
       "<matplotlib.figure.Figure at 0x11b631190>"
      ]
     },
     "metadata": {},
     "output_type": "display_data"
    }
   ],
   "source": [
    "# df.sort_values(\"ensemble_size\", inplace=True)\n",
    "colors = sns.color_palette(\"Set1\", n_colors=8, desat=.5)\n",
    "\n",
    "# tgs = df.groupby(\"ensemble_size\")\n",
    "# tg_errs = df.groupby(\"ensemble_size\").std()\n",
    "\n",
    "\n",
    "\n",
    "fig, ax = plt.subplots()\n",
    "\n",
    "def plot_line(cur_col, ax, label, color, ls=\"-\"):\n",
    "#     cur_col = tgs[\"clipper_p99\"]\n",
    "    cur_col.plot(y=\"mean\", yerr=\"std\", ax=ax, color=color, ls=ls, label=label)\n",
    "\n",
    "plot_line(tgs[\"clipper_p99\"], ax, \"Clipper P99\", colors[0])\n",
    "plot_line(tgs[\"clipper_mean_lat\"], ax, \"Clipper Mean\", colors[0], ls=\"--\")\n",
    "plot_line(tgs[\"blocking_p99\"], ax, \"Blocking P99\", colors[1])\n",
    "plot_line(tgs[\"blocking_mean_lat\"], ax, \"Blocking Mean\", colors[1], ls=\"--\")\n",
    "    \n",
    "# ax.plot(x=tgs.index.values, y=tgs[\"clipper_p99\",\"mean\"], yerr=tgs[\"clipper_p99\",\"std\"], kind=\"scatter\", color=colors[0], label = \"Clipper P99\")\n",
    "# ax.plot(df[\"ensemble_size\"], df[\"clipper_mean_lat\"], color=colors[0], linestyle=\"--\", label = \"Clipper Mean\")\n",
    "# ax.plot(df[\"ensemble_size\"], df[\"blocking_p99\"], color=colors[1], label = \"Blocking P99\")\n",
    "# ax.plot(df[\"ensemble_size\"], df[\"blocking_mean_lat\"], color=colors[1], linestyle=\"--\", label = \"Blocking Mean\")\n",
    "ax.legend(loc=0, ncol=2)\n",
    "ax.set_ylim(0, 250000)\n",
    "# ax.set_yscale(\"log\")\n",
    "ax.set_ylabel(\"Latency ($\\mu$s)\")\n",
    "ax.set_xlabel(\"Size of ensemble\")\n",
    "\n"
   ]
  },
  {
   "cell_type": "code",
   "execution_count": null,
   "metadata": {
    "collapsed": true
   },
   "outputs": [],
   "source": []
  }
 ],
 "metadata": {
  "kernelspec": {
   "display_name": "Python 2",
   "language": "python",
   "name": "python2"
  },
  "language_info": {
   "codemirror_mode": {
    "name": "ipython",
    "version": 2
   },
   "file_extension": ".py",
   "mimetype": "text/x-python",
   "name": "python",
   "nbconvert_exporter": "python",
   "pygments_lexer": "ipython2",
   "version": "2.7.12"
  }
 },
 "nbformat": 4,
 "nbformat_minor": 0
}
