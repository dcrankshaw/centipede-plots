{
 "cells": [
  {
   "cell_type": "code",
   "execution_count": null,
   "metadata": {
    "collapsed": false
   },
   "outputs": [],
   "source": [
    "import json\n",
    "import numpy as np\n",
    "import matplotlib.pyplot as plt\n",
    "import os\n",
    "import pandas as pd\n",
    "import sys\n",
    "import seaborn as sns\n",
    "sns.set_style(\"white\")\n",
    "sns.set_context(\"paper\", font_scale=1.8,)\n",
    "%matplotlib inline\n",
    "fig_dir = \"/Users/crankshaw/model-serving/clipper_paper/ModelServingPaper/nsdi_2017/fake-figs\"\n",
    "\n",
    "log_loc = os.path.abspath(\"/Users/crankshaw/clipper/experiments_logs/straggler_mitigation\")\n",
    "\n",
    "results_files = []\n",
    "for name in os.listdir(log_loc):\n",
    "    if \"results\" in name:\n",
    "        results_files.append(name)\n",
    "\n",
    "exp_names = [f.split(\"_results\")[0] for f in results_files]\n",
    "# print exp_names\n",
    "print results_files"
   ]
  },
  {
   "cell_type": "code",
   "execution_count": null,
   "metadata": {
    "collapsed": false,
    "scrolled": true
   },
   "outputs": [],
   "source": [
    "\n",
    "def extract_results(i, df, fname):\n",
    "    with open(os.path.join(log_loc, fname), \"r\") as f:\n",
    "        ensemble_size = int(fname.split(\"_\")[2])\n",
    "#         print fname\n",
    "        res = json.load(f)\n",
    "        clipper_p99 = [m[\"p99\"] for m in res[\"histograms\"] if \"prediction_latency\" in m[\"name\"]][0]\n",
    "        blocking_p99 = [m[\"p99\"] for m in res[\"histograms\"] if \"straggler_blocking_prediction_latency\" in m[\"name\"]][0]\n",
    "        clipper_mean = [m[\"mean\"] for m in res[\"histograms\"] if \"prediction_latency\" in m[\"name\"]][0]\n",
    "        blocking_mean = [m[\"mean\"] for m in res[\"histograms\"] if \"straggler_blocking_prediction_latency\" in m[\"name\"]][0]\n",
    "        if ensemble_size < 18:\n",
    "            df.loc[i] = [ensemble_size, clipper_mean, clipper_p99, blocking_mean, blocking_p99]\n",
    "\n",
    "df = pd.DataFrame(columns=(\"ensemble_size\", \"clipper_mean_lat\", \"clipper_p99\", \"blocking_mean_lat\", \"blocking_p99\"))\n",
    "[extract_results(i, df, r) for (i,r) in enumerate(results_files)]\n",
    "# for r in results_files:\n",
    "#     extract_results(i, df, r)"
   ]
  },
  {
   "cell_type": "code",
   "execution_count": null,
   "metadata": {
    "collapsed": false
   },
   "outputs": [],
   "source": [
    "df.sort_values(\"ensemble_size\", inplace=True)\n",
    "f = {'clipper_mean_lat':['mean','std'], 'clipper_p99':['mean','std'], 'blocking_mean_lat':['mean','std'], 'blocking_p99':['mean','std'],}\n",
    "tgs = df.groupby(\"ensemble_size\").agg(f)\n",
    "print tgs.index.values\n",
    "print tgs[\"clipper_p99\",\"mean\"].values\n",
    "tgs.columns.get_level_values(0)"
   ]
  },
  {
   "cell_type": "code",
   "execution_count": null,
   "metadata": {
    "collapsed": false
   },
   "outputs": [],
   "source": [
    "# df.sort_values(\"ensemble_size\", inplace=True)\n",
    "colors = sns.color_palette(\"Set1\", n_colors=8, desat=.5)\n",
    "\n",
    "# tgs = df.groupby(\"ensemble_size\")\n",
    "# tg_errs = df.groupby(\"ensemble_size\").std()\n",
    "\n",
    "\n",
    "\n",
    "fig, ax = plt.subplots()\n",
    "\n",
    "def plot_line(cur_col, ax, label, color, ls=\"-\"):\n",
    "#     cur_col = tgs[\"clipper_p99\"]\n",
    "    cur_col.plot(y=\"mean\", yerr=\"std\", ax=ax, color=color, ls=ls, label=label)\n",
    "\n",
    "plot_line(tgs[\"clipper_p99\"], ax, \"Clipper P99\", colors[0])\n",
    "plot_line(tgs[\"clipper_mean_lat\"], ax, \"Clipper Mean\", colors[0], ls=\"--\")\n",
    "plot_line(tgs[\"blocking_p99\"], ax, \"Blocking P99\", colors[1])\n",
    "plot_line(tgs[\"blocking_mean_lat\"], ax, \"Blocking Mean\", colors[1], ls=\"--\")\n",
    "    \n",
    "# ax.plot(x=tgs.index.values, y=tgs[\"clipper_p99\",\"mean\"], yerr=tgs[\"clipper_p99\",\"std\"], kind=\"scatter\", color=colors[0], label = \"Clipper P99\")\n",
    "# ax.plot(df[\"ensemble_size\"], df[\"clipper_mean_lat\"], color=colors[0], linestyle=\"--\", label = \"Clipper Mean\")\n",
    "# ax.plot(df[\"ensemble_size\"], df[\"blocking_p99\"], color=colors[1], label = \"Blocking P99\")\n",
    "# ax.plot(df[\"ensemble_size\"], df[\"blocking_mean_lat\"], color=colors[1], linestyle=\"--\", label = \"Blocking Mean\")\n",
    "ax.legend(loc=0, ncol=2)\n",
    "ax.set_ylim(0, 250000)\n",
    "# ax.set_yscale(\"log\")\n",
    "ax.set_ylabel(\"Latency ($\\mu$s)\")\n",
    "ax.set_xlabel(\"Size of ensemble\")\n",
    "\n"
   ]
  },
  {
   "cell_type": "code",
   "execution_count": null,
   "metadata": {
    "collapsed": true
   },
   "outputs": [],
   "source": []
  }
 ],
 "metadata": {
  "kernelspec": {
   "display_name": "Python 2",
   "language": "python",
   "name": "python2"
  },
  "language_info": {
   "codemirror_mode": {
    "name": "ipython",
    "version": 2
   },
   "file_extension": ".py",
   "mimetype": "text/x-python",
   "name": "python",
   "nbconvert_exporter": "python",
   "pygments_lexer": "ipython2",
   "version": "2.7.12"
  }
 },
 "nbformat": 4,
 "nbformat_minor": 0
}
