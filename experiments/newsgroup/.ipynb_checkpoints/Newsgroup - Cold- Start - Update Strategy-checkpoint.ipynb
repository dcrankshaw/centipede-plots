{
 "cells": [
  {
   "cell_type": "code",
   "execution_count": 12,
   "metadata": {
    "collapsed": true
   },
   "outputs": [],
   "source": [
    "%reload_ext autoreload\n",
    "%autoreload 2\n",
    "%matplotlib inline"
   ]
  },
  {
   "cell_type": "code",
   "execution_count": 2,
   "metadata": {
    "collapsed": false
   },
   "outputs": [],
   "source": [
    "import numpy as np\n",
    "import matplotlib.pyplot as plt\n",
    "import newsgroups_class as nc\n",
    "import classification as lg\n",
    "from scipy.sparse import csr_matrix\n",
    "\n",
    "from sklearn.feature_extraction.text import CountVectorizer\n",
    "from sklearn.feature_extraction.text import TfidfTransformer"
   ]
  },
  {
   "cell_type": "code",
   "execution_count": 3,
   "metadata": {
    "collapsed": false
   },
   "outputs": [
    {
     "name": "stdout",
     "output_type": "stream",
     "text": [
      "data loaded!\n",
      "finish generate data!\n"
     ]
    }
   ],
   "source": [
    "############# Load Data #################\n",
    "x_train, y_train, x_test, y_test = nc.load_data()\n",
    "tasks = nc.create_mtl_datasets(x_test,y_test, nTasks=200, taskSize= 30, testSize=40)\n",
    "xs,ys,dy,ss,test_xs,test_ys,test_dy,test_ts = nc.generate_data(tasks) "
   ]
  },
  {
   "cell_type": "code",
   "execution_count": 50,
   "metadata": {
    "collapsed": false
   },
   "outputs": [
    {
     "name": "stdout",
     "output_type": "stream",
     "text": [
      "TOTALS: fit time: 1.893291\n",
      "Training accuracy of fs is  0.941333333333\n",
      "ws: feature_time (s): 0.000273, train_time (s): 2.264262\n",
      "Initial error of L1 model is  0.587833333333\n",
      "TOTALS: fit time: 1.829706\n",
      "Training accuracy of fs is  0.941333333333\n",
      "ws: feature_time (s): 0.000324, train_time (s): 2.635340\n",
      "Initial error of L2 model is  0.1015\n"
     ]
    }
   ],
   "source": [
    "#k=20\n",
    "## NB- L1 \n",
    "model_error_L1 = []\n",
    "model_L1 =nc.UserDefineModel(xs,ys,dy,ss,penalty='l1')\n",
    "model_L1.train_all_fs()\n",
    "model_L1.train_ws()\n",
    "nb_err = nc.seg_model_error_01(model_L1,test_xs,test_ys,test_ts)\n",
    "print 'Initial error of L1 model is ', nb_err\n",
    "\n",
    "## NB-L2\n",
    "model_error_L2 = []\n",
    "model_L2 =nc.UserDefineModel(xs,ys,dy,ss,penalty='l2')\n",
    "model_L2.train_all_fs()\n",
    "model_L2.train_ws()\n",
    "nb_err = nc.seg_model_error_01(model_L2,test_xs,test_ys,test_ts)\n",
    "print 'Initial error of L2 model is ', nb_err"
   ]
  },
  {
   "cell_type": "code",
   "execution_count": 51,
   "metadata": {
    "collapsed": false
   },
   "outputs": [
    {
     "name": "stdout",
     "output_type": "stream",
     "text": [
      "making task 0\n",
      "making task 50\n",
      "making task 100\n",
      "making task 150\n"
     ]
    }
   ],
   "source": [
    "task = nc.create_mtl_datasets(x_train,y_train,nTasks=200,taskSize=30,testSize=40)\n",
    "test_xs,test_ys,test_ts = nc.generate_additional_data(task,model_L1, model_L2,0)"
   ]
  },
  {
   "cell_type": "markdown",
   "metadata": {},
   "source": [
    "# Cold Start"
   ]
  },
  {
   "cell_type": "code",
   "execution_count": 52,
   "metadata": {
    "collapsed": false
   },
   "outputs": [
    {
     "name": "stdout",
     "output_type": "stream",
     "text": [
      "cold-start: # of points trained:  2\n",
      "ws: feature_time (s): 0.000530, train_time (s): 2.291741\n",
      "Testing Error of nb model --l1 is  0.4\n",
      "ws: feature_time (s): 0.000582, train_time (s): 2.326393\n",
      "Testing Error of nb model-- L2 is  0.326833333333\n",
      "cold-start: # of points trained:  3\n",
      "ws: feature_time (s): 0.000546, train_time (s): 2.335667\n",
      "Testing Error of nb model --l1 is  0.4\n",
      "ws: feature_time (s): 0.000595, train_time (s): 2.439420\n",
      "Testing Error of nb model-- L2 is  0.438166666667\n",
      "cold-start: # of points trained:  4\n",
      "ws: feature_time (s): 0.000576, train_time (s): 2.499748\n",
      "Testing Error of nb model --l1 is  0.403\n",
      "ws: feature_time (s): 0.000536, train_time (s): 2.490565\n",
      "Testing Error of nb model-- L2 is  0.384666666667\n",
      "cold-start: # of points trained:  5\n",
      "ws: feature_time (s): 0.000632, train_time (s): 2.603121\n",
      "Testing Error of nb model --l1 is  0.404\n",
      "ws: feature_time (s): 0.000570, train_time (s): 2.574460\n",
      "Testing Error of nb model-- L2 is  0.391666666667\n",
      "cold-start: # of points trained:  6\n",
      "ws: feature_time (s): 0.000579, train_time (s): 3.172481\n",
      "Testing Error of nb model --l1 is  0.409\n",
      "ws: feature_time (s): 0.000552, train_time (s): 2.900382\n",
      "Testing Error of nb model-- L2 is  0.394\n",
      "cold-start: # of points trained:  7\n",
      "ws: feature_time (s): 0.000677, train_time (s): 3.469665\n",
      "Testing Error of nb model --l1 is  0.414\n",
      "ws: feature_time (s): 0.000918, train_time (s): 3.859248\n",
      "Testing Error of nb model-- L2 is  0.368166666667\n",
      "cold-start: # of points trained:  8\n",
      "ws: feature_time (s): 0.000671, train_time (s): 3.964189\n",
      "Testing Error of nb model --l1 is  0.414\n",
      "ws: feature_time (s): 0.000657, train_time (s): 4.249719\n",
      "Testing Error of nb model-- L2 is  0.373333333333\n",
      "cold-start: # of points trained:  9\n",
      "ws: feature_time (s): 0.000698, train_time (s): 3.792455\n",
      "Testing Error of nb model --l1 is  0.418\n",
      "ws: feature_time (s): 0.000597, train_time (s): 3.084719\n",
      "Testing Error of nb model-- L2 is  0.361\n",
      "cold-start: # of points trained:  10\n",
      "ws: feature_time (s): 0.000609, train_time (s): 3.313985\n",
      "Testing Error of nb model --l1 is  0.426\n",
      "ws: feature_time (s): 0.000596, train_time (s): 3.266248\n",
      "Testing Error of nb model-- L2 is  0.3405\n",
      "cold-start: # of points trained:  11\n",
      "ws: feature_time (s): 0.000652, train_time (s): 3.446725\n",
      "Testing Error of nb model --l1 is  0.431\n",
      "ws: feature_time (s): 0.000561, train_time (s): 3.420443\n",
      "Testing Error of nb model-- L2 is  0.344666666667\n",
      "cold-start: # of points trained:  12\n",
      "ws: feature_time (s): 0.000601, train_time (s): 3.418036\n",
      "Testing Error of nb model --l1 is  0.441\n",
      "ws: feature_time (s): 0.000855, train_time (s): 4.542510\n",
      "Testing Error of nb model-- L2 is  0.325833333333\n",
      "cold-start: # of points trained:  13\n",
      "ws: feature_time (s): 0.000642, train_time (s): 3.980930\n",
      "Testing Error of nb model --l1 is  0.438333333333\n",
      "ws: feature_time (s): 0.000714, train_time (s): 4.735895\n",
      "Testing Error of nb model-- L2 is  0.325666666667\n",
      "cold-start: # of points trained:  14\n",
      "ws: feature_time (s): 0.000721, train_time (s): 4.653712\n",
      "Testing Error of nb model --l1 is  0.447666666667\n",
      "ws: feature_time (s): 0.000613, train_time (s): 4.301314\n",
      "Testing Error of nb model-- L2 is  0.2885\n",
      "cold-start: # of points trained:  15\n",
      "ws: feature_time (s): 0.000595, train_time (s): 3.834644\n",
      "Testing Error of nb model --l1 is  0.451833333333\n",
      "ws: feature_time (s): 0.000712, train_time (s): 4.497401\n",
      "Testing Error of nb model-- L2 is  0.2755\n",
      "cold-start: # of points trained:  16\n",
      "ws: feature_time (s): 0.000586, train_time (s): 4.154909\n",
      "Testing Error of nb model --l1 is  0.457\n",
      "ws: feature_time (s): 0.000532, train_time (s): 3.802322\n",
      "Testing Error of nb model-- L2 is  0.271166666667\n",
      "cold-start: # of points trained:  17\n",
      "ws: feature_time (s): 0.000575, train_time (s): 3.846349\n",
      "Testing Error of nb model --l1 is  0.457833333333\n",
      "ws: feature_time (s): 0.000715, train_time (s): 4.649954\n",
      "Testing Error of nb model-- L2 is  0.2795\n",
      "cold-start: # of points trained:  18\n",
      "ws: feature_time (s): 0.000649, train_time (s): 4.531381\n",
      "Testing Error of nb model --l1 is  0.471666666667\n",
      "ws: feature_time (s): 0.000536, train_time (s): 3.948763\n",
      "Testing Error of nb model-- L2 is  0.269666666667\n",
      "cold-start: # of points trained:  19\n",
      "ws: feature_time (s): 0.000552, train_time (s): 4.063169\n",
      "Testing Error of nb model --l1 is  0.4675\n",
      "ws: feature_time (s): 0.000554, train_time (s): 4.109968\n",
      "Testing Error of nb model-- L2 is  0.259666666667\n",
      "cold-start: # of points trained:  20\n",
      "ws: feature_time (s): 0.000542, train_time (s): 4.089746\n",
      "Testing Error of nb model --l1 is  0.471\n",
      "ws: feature_time (s): 0.000549, train_time (s): 4.217100\n",
      "Testing Error of nb model-- L2 is  0.263166666667\n",
      "cold-start: # of points trained:  21\n",
      "ws: feature_time (s): 0.000643, train_time (s): 4.765515\n",
      "Testing Error of nb model --l1 is  0.487\n",
      "ws: feature_time (s): 0.004491, train_time (s): 6.807378\n",
      "Testing Error of nb model-- L2 is  0.250666666667\n",
      "cold-start: # of points trained:  22\n",
      "ws: feature_time (s): 0.000620, train_time (s): 5.344570\n",
      "Testing Error of nb model --l1 is  0.4895\n",
      "ws: feature_time (s): 0.000638, train_time (s): 5.770042\n",
      "Testing Error of nb model-- L2 is  0.236166666667\n",
      "cold-start: # of points trained:  23\n",
      "ws: feature_time (s): 0.000649, train_time (s): 4.882655\n",
      "Testing Error of nb model --l1 is  0.494833333333\n",
      "ws: feature_time (s): 0.000633, train_time (s): 4.912307\n",
      "Testing Error of nb model-- L2 is  0.218333333333\n",
      "cold-start: # of points trained:  24\n",
      "ws: feature_time (s): 0.000576, train_time (s): 4.959677\n",
      "Testing Error of nb model --l1 is  0.5085\n",
      "ws: feature_time (s): 0.000619, train_time (s): 5.100067\n",
      "Testing Error of nb model-- L2 is  0.216\n",
      "cold-start: # of points trained:  25\n",
      "ws: feature_time (s): 0.000635, train_time (s): 4.924356\n",
      "Testing Error of nb model --l1 is  0.504666666667\n",
      "ws: feature_time (s): 0.000569, train_time (s): 4.987452\n",
      "Testing Error of nb model-- L2 is  0.198166666667\n",
      "cold-start: # of points trained:  26\n",
      "ws: feature_time (s): 0.000618, train_time (s): 5.071649\n",
      "Testing Error of nb model --l1 is  0.5115\n",
      "ws: feature_time (s): 0.000590, train_time (s): 5.047669\n",
      "Testing Error of nb model-- L2 is  0.191\n",
      "cold-start: # of points trained:  27\n",
      "ws: feature_time (s): 0.000626, train_time (s): 5.144296\n",
      "Testing Error of nb model --l1 is  0.5155\n",
      "ws: feature_time (s): 0.000593, train_time (s): 4.958162\n",
      "Testing Error of nb model-- L2 is  0.181833333333\n",
      "cold-start: # of points trained:  28\n",
      "ws: feature_time (s): 0.000617, train_time (s): 5.242337\n",
      "Testing Error of nb model --l1 is  0.525666666667\n",
      "ws: feature_time (s): 0.000609, train_time (s): 5.252574\n",
      "Testing Error of nb model-- L2 is  0.179333333333\n",
      "cold-start: # of points trained:  29\n",
      "ws: feature_time (s): 0.000646, train_time (s): 5.448818\n",
      "Testing Error of nb model --l1 is  0.5285\n",
      "ws: feature_time (s): 0.000576, train_time (s): 5.351730\n",
      "Testing Error of nb model-- L2 is  0.1745\n"
     ]
    }
   ],
   "source": [
    "iters = range(2,30)\n",
    "for i in iters:\n",
    "    print 'cold-start: # of points trained: ', i\n",
    "    model_L1.train_ws(i)\n",
    "    svm_err = nc.seg_model_error_01(model_L1,test_xs,test_ys,test_ts)\n",
    "    model_error_L1.append(svm_err)\n",
    "    print 'Testing Error of nb model --l1 is ', svm_err\n",
    "\n",
    "    model_L2.train_ws(i)\n",
    "    svm_err = nc.seg_model_error_01(model_L2,test_xs,test_ys,test_ts)\n",
    "    model_error_L2.append(svm_err)\n",
    "    print 'Testing Error of nb model-- L2 is ', svm_err"
   ]
  },
  {
   "cell_type": "code",
   "execution_count": 55,
   "metadata": {
    "collapsed": true
   },
   "outputs": [],
   "source": [
    "f = open('cold-start-newsgroup-l2.txt','w')\n",
    "\n",
    "f.write('NB Model--L2 Norm:\\n# of points:')\n",
    "for i in iters:\n",
    "    f.write('\\t'+str(i))\n",
    "f.write('\\n')  \n",
    "\n",
    "for t in model_error_L2:\n",
    "    f.write('\\t'+str(t))\n",
    "f.write('\\n')\n",
    "\n",
    "f.write('NB Model--L1 Norm:\\n# of points:')\n",
    "for i in iters:\n",
    "    f.write('\\t'+str(i))\n",
    "f.write('\\n')  \n",
    "\n",
    "for t in model_error_L1:\n",
    "    f.write('\\t'+str(t))\n",
    "f.write('\\n')\n",
    "f.close()\n"
   ]
  },
  {
   "cell_type": "code",
   "execution_count": 54,
   "metadata": {
    "collapsed": false
   },
   "outputs": [
    {
     "data": {
      "image/png": "[encoded data removed]",
      "text/plain": [
       "<matplotlib.figure.Figure at 0x10a443190>"
      ]
     },
     "metadata": {},
     "output_type": "display_data"
    }
   ],
   "source": [
    "## plot ###\n",
    "fig,ax = plt.subplots()\n",
    "ax.plot(iters, model_error_L2, label = 'nb-l2')\n",
    "#ax.plot(iters, model_error_L1, label = 'nb-l1')\n",
    "ax.set_xlabel('Size of the new task')\n",
    "ax.set_ylabel('Error rate')\n",
    "ax.set_title('Cold Start-Newsgroup')\n",
    "ax.legend()\n",
    "default_size = fig.get_size_inches()\n",
    "size_mult = 1.7\n",
    "ax.set_ylim((0.0, ax.get_ylim()[1]))\n",
    "fig.set_size_inches(default_size[0]*size_mult,default_size[1]*size_mult)\n",
    "plt.show()"
   ]
  },
  {
   "cell_type": "code",
   "execution_count": null,
   "metadata": {
    "collapsed": true
   },
   "outputs": [],
   "source": []
  },
  {
   "cell_type": "markdown",
   "metadata": {},
   "source": [
    "\n",
    "# Updating Strategies"
   ]
  },
  {
   "cell_type": "code",
   "execution_count": 5,
   "metadata": {
    "collapsed": false
   },
   "outputs": [],
   "source": [
    "tasks = nc.create_mtl_datasets(x_test,y_test, nTasks=200, taskSize= 20, testSize=40)"
   ]
  },
  {
   "cell_type": "code",
   "execution_count": 23,
   "metadata": {
    "collapsed": false
   },
   "outputs": [
    {
     "data": {
      "text/plain": [
       "10000"
      ]
     },
     "execution_count": 23,
     "metadata": {},
     "output_type": "execute_result"
    }
   ],
   "source": [
    "len(tasks)"
   ]
  },
  {
   "cell_type": "markdown",
   "metadata": {},
   "source": [
    "# Retrain New"
   ]
  },
  {
   "cell_type": "code",
   "execution_count": 21,
   "metadata": {
    "collapsed": true
   },
   "outputs": [],
   "source": []
  },
  {
   "cell_type": "code",
   "execution_count": 6,
   "metadata": {
    "collapsed": false
   },
   "outputs": [
    {
     "name": "stdout",
     "output_type": "stream",
     "text": [
      "TOTALS: fit time: 1.329184\n",
      "Training accuracy of fs is  0.91125\n",
      "ws: feature_time (s): 0.000324, train_time (s): 2.421568\n",
      "Initial Error l2:  0.09975\n"
     ]
    }
   ],
   "source": [
    "xs = []\n",
    "ys = []\n",
    "dy = []\n",
    "ss = []\n",
    "nb_retrain_new_l1 = nc.UserDefineModel(xs,ys,dy,ss,strategy = 'train-all',penalty = 'l1') # using the default value \n",
    "nb_retrain_new_l2 = nc.UserDefineModel(xs,ys,dy,ss,strategy = 'train-all',penalty = 'l2') # using the default value \n",
    "test_xs,test_ys,test_ss = nc.generate_additional_data (tasks, nb_retrain_new_l1, nb_retrain_new_l2,3)\n",
    "nb_retrain_new_l2.train_all_fs()\n",
    "nb_retrain_new_l2.train_ws()\n",
    "nb_retrain_new_l2_errors = []\n",
    "nb_retrain_new_l2.strategy = 'retrain-new'\n",
    "nb_err = nc.seg_model_error_01(nb_retrain_new_l2,test_xs,test_ys,test_ss)\n",
    "nb_retrain_new_l2_errors.append(nb_err)\n",
    "#print \"Initial Error OracleMTL---Train All: %f\" % oracle_err\n",
    "print 'Initial Error l2: ', nb_err"
   ]
  },
  {
   "cell_type": "code",
   "execution_count": 6,
   "metadata": {
    "collapsed": false
   },
   "outputs": [],
   "source": [
    "test_xss,test_yss,test_tss, perm, size = nc.generate_data_concept_drift(x_train, y_train, nb_retrain_new_l2,20,'same')"
   ]
  },
  {
   "cell_type": "code",
   "execution_count": 7,
   "metadata": {
    "collapsed": false
   },
   "outputs": [
    {
     "name": "stderr",
     "output_type": "stream",
     "text": [
      "newsgroups_class.py:218: FutureWarning: comparison to `None` will result in an elementwise object comparison in the future.\n",
      "  if perm == None:\n"
     ]
    }
   ],
   "source": [
    "test_xss1,test_yss1,test_tss1, perm, size1 = nc.generate_data_concept_drift(x_train, y_train, nb_retrain_new_l2,100,'same',perm)"
   ]
  },
  {
   "cell_type": "code",
   "execution_count": 8,
   "metadata": {
    "collapsed": true
   },
   "outputs": [],
   "source": [
    "test_xss2,test_yss2,test_tss2,perm, size2 = nc.generate_data_concept_drift(x_train, y_train, nb_retrain_new_l2,200,'total',perm)"
   ]
  },
  {
   "cell_type": "code",
   "execution_count": 9,
   "metadata": {
    "collapsed": true
   },
   "outputs": [],
   "source": [
    "test_xss3,test_yss3,test_tss3,perm, size3 = nc.generate_data_concept_drift(x_train, y_train, nb_retrain_new_l2,200,'total',perm)"
   ]
  },
  {
   "cell_type": "code",
   "execution_count": 40,
   "metadata": {
    "collapsed": false
   },
   "outputs": [],
   "source": [
    "segments = nb_retrain_new_l2.segments"
   ]
  },
  {
   "cell_type": "code",
   "execution_count": null,
   "metadata": {
    "collapsed": false
   },
   "outputs": [],
   "source": []
  },
  {
   "cell_type": "code",
   "execution_count": 20,
   "metadata": {
    "collapsed": false
   },
   "outputs": [
    {
     "data": {
      "text/plain": [
       "array([3, 9, 7])"
      ]
     },
     "execution_count": 20,
     "metadata": {},
     "output_type": "execute_result"
    }
   ],
   "source": [
    "lala = np.random.permutation(10)\n",
    "lala[0:3]"
   ]
  },
  {
   "cell_type": "code",
   "execution_count": 10,
   "metadata": {
    "collapsed": false
   },
   "outputs": [
    {
     "data": {
      "text/plain": [
       "8"
      ]
     },
     "execution_count": 10,
     "metadata": {},
     "output_type": "execute_result"
    }
   ],
   "source": [
    "size3"
   ]
  },
  {
   "cell_type": "code",
   "execution_count": null,
   "metadata": {
    "collapsed": true
   },
   "outputs": [],
   "source": []
  },
  {
   "cell_type": "code",
   "execution_count": 10,
   "metadata": {
    "collapsed": false,
    "scrolled": false
   },
   "outputs": [
    {
     "name": "stdout",
     "output_type": "stream",
     "text": [
      "# of points is 20\n",
      "ws: feature_time (s): 0.000312, train_time (s): 3.323040\n",
      "0.516125\n",
      "current self.points is  20\n",
      "# of points is 21\n",
      "ws: feature_time (s): 0.000293, train_time (s): 3.327535\n",
      "0.4375\n",
      "# of points is 22\n",
      "ws: feature_time (s): 0.000389, train_time (s): 3.728444\n",
      "0.386875\n",
      "# of points is 23\n",
      "ws: feature_time (s): 0.000326, train_time (s): 3.300694\n",
      "0.329125\n",
      "# of points is 24\n",
      "ws: feature_time (s): 0.000315, train_time (s): 3.301871\n",
      "0.281625\n",
      "# of points is 25\n",
      "ws: feature_time (s): 0.000356, train_time (s): 3.639708\n",
      "0.25175\n",
      "# of points is 26\n",
      "ws: feature_time (s): 0.000301, train_time (s): 3.273402\n",
      "0.221875\n",
      "# of points is 27\n",
      "ws: feature_time (s): 0.000305, train_time (s): 3.374274\n",
      "0.2015\n",
      "# of points is 28\n",
      "ws: feature_time (s): 0.000319, train_time (s): 3.312719\n",
      "0.194625\n",
      "# of points is 29\n",
      "ws: feature_time (s): 0.000282, train_time (s): 3.214117\n",
      "0.186125\n",
      "# of points is 30\n",
      "ws: feature_time (s): 0.000365, train_time (s): 3.669690\n",
      "0.18075\n",
      "# of points is 31\n",
      "ws: feature_time (s): 0.000304, train_time (s): 3.382496\n",
      "0.50775\n",
      "current self.points is  31\n",
      "# of points is 32\n",
      "ws: feature_time (s): 0.000316, train_time (s): 3.363140\n",
      "0.430625\n",
      "# of points is 33\n",
      "ws: feature_time (s): 0.000308, train_time (s): 3.488901\n",
      "0.3665\n",
      "# of points is 34\n",
      "ws: feature_time (s): 0.000325, train_time (s): 3.313123\n",
      "0.322375\n",
      "# of points is 35\n",
      "ws: feature_time (s): 0.000359, train_time (s): 3.269828\n",
      "0.274125\n",
      "# of points is 36\n",
      "ws: feature_time (s): 0.000312, train_time (s): 3.368720\n",
      "0.24325\n",
      "# of points is 37\n",
      "ws: feature_time (s): 0.000316, train_time (s): 3.531317\n",
      "0.2155\n",
      "# of points is 38\n",
      "ws: feature_time (s): 0.000370, train_time (s): 3.450305\n",
      "0.198375\n",
      "# of points is 39\n",
      "ws: feature_time (s): 0.000333, train_time (s): 3.513500\n",
      "0.473\n",
      "current self.points is  39\n",
      "# of points is 40\n",
      "ws: feature_time (s): 0.000313, train_time (s): 3.541085\n",
      "0.407\n",
      "# of points is 41\n",
      "ws: feature_time (s): 0.000409, train_time (s): 3.484855\n",
      "0.3565\n",
      "# of points is 42\n",
      "ws: feature_time (s): 0.000331, train_time (s): 3.362365\n",
      "0.2935\n",
      "# of points is 43\n",
      "ws: feature_time (s): 0.000325, train_time (s): 3.377743\n",
      "0.2595\n",
      "# of points is 44\n",
      "ws: feature_time (s): 0.000346, train_time (s): 3.309414\n",
      "0.2395\n",
      "# of points is 45\n",
      "ws: feature_time (s): 0.000360, train_time (s): 3.678878\n",
      "0.221125\n",
      "# of points is 46\n",
      "ws: feature_time (s): 0.000382, train_time (s): 3.333127\n",
      "0.2125\n",
      "# of points is 47\n",
      "ws: feature_time (s): 0.000346, train_time (s): 3.773994\n",
      "0.198375\n",
      "# of points is 48\n",
      "ws: feature_time (s): 0.000357, train_time (s): 3.518097\n",
      "0.201\n",
      "# of points is 49\n",
      "ws: feature_time (s): 0.000311, train_time (s): 3.303741\n",
      "0.467625\n",
      "current self.points is  49\n",
      "# of points is 50\n",
      "ws: feature_time (s): 0.000312, train_time (s): 3.387760\n",
      "0.416\n",
      "# of points is 51\n",
      "ws: feature_time (s): 0.000302, train_time (s): 3.552601\n",
      "0.347875\n",
      "# of points is 52\n",
      "ws: feature_time (s): 0.000316, train_time (s): 3.431801\n",
      "0.318125\n",
      "# of points is 53\n",
      "ws: feature_time (s): 0.000334, train_time (s): 3.384829\n",
      "0.270875\n",
      "# of points is 54\n",
      "ws: feature_time (s): 0.000327, train_time (s): 3.362339\n",
      "0.24275\n",
      "# of points is 55\n",
      "ws: feature_time (s): 0.000324, train_time (s): 3.546341\n",
      "0.226125\n",
      "# of points is 56\n",
      "ws: feature_time (s): 0.000303, train_time (s): 3.371059\n",
      "0.217\n",
      "# of points is 57\n",
      "ws: feature_time (s): 0.000331, train_time (s): 3.347320\n",
      "0.209125\n",
      "# of points is 58\n",
      "ws: feature_time (s): 0.000311, train_time (s): 3.379354\n",
      "0.200875\n"
     ]
    },
    {
     "name": "stderr",
     "output_type": "stream",
     "text": [
      "newsgroups_class.py:428: FutureWarning: comparison to `None` will result in an elementwise object comparison in the future.\n",
      "  if perm == None:\n"
     ]
    }
   ],
   "source": [
    "cnt = 0\n",
    "lt = 20+size+size1+size2+size3\n",
    "for i in range(20,lt):\n",
    "    print '# of points is', i\n",
    "    nb_retrain_new_l2.train_ws(i,perm)    \n",
    "    if i<20+size:\n",
    "        nb_err = nc.seg_model_error_01(nb_retrain_new_l2,test_xss,test_yss,test_tss)\n",
    "    elif i<20+size+size1:\n",
    "        nb_err = nc.seg_model_error_01(nb_retrain_new_l2,test_xss1,test_yss1,test_tss1)\n",
    "    elif i<20+size+size1+size2:\n",
    "        nb_err = nc.seg_model_error_01(nb_retrain_new_l2,test_xss2,test_yss2,test_tss2)\n",
    "    elif i<20+size+size1+size2+size3:\n",
    "        nb_err = nc.seg_model_error_01(nb_retrain_new_l2,test_xss3,test_yss3,test_tss3)    \n",
    "    print nb_err\n",
    "    nb_retrain_new_l2_errors.append(nb_err)\n",
    "    \n",
    "    if nb_err > 0.4 and (nb_err-nb_retrain_new_l2_errors[cnt])>0.2:\n",
    "        nb_retrain_new_l2.points = i\n",
    "        print 'current self.points is ', nb_retrain_new_l2.points\n",
    "    cnt += 1 \n",
    "    "
   ]
  },
  {
   "cell_type": "code",
   "execution_count": 13,
   "metadata": {
    "collapsed": false
   },
   "outputs": [
    {
     "data": {
      "image/png": "[encoded data removed]",
      "text/plain": [
       "<matplotlib.figure.Figure at 0x117e8d710>"
      ]
     },
     "metadata": {},
     "output_type": "display_data"
    }
   ],
   "source": [
    "iters = range(20,lt+1)\n",
    "plt.plot(iters,nb_retrain_new_l2_errors)\n",
    "plt.show()"
   ]
  },
  {
   "cell_type": "code",
   "execution_count": 19,
   "metadata": {
    "collapsed": false
   },
   "outputs": [
    {
     "data": {
      "image/png": "[encoded data removed]",
      "text/plain": [
       "<matplotlib.figure.Figure at 0x11b9712d0>"
      ]
     },
     "metadata": {},
     "output_type": "display_data"
    },
    {
     "data": {
      "text/plain": [
       "\"\\nff = open('comparison_retraining_fs_newsgroup-200tasks.txt','w')\\nff.write('without retraining fs:\\n')\\nff.write('# of iters:')\\nfor i in iters:\\n    ff.write('\\t'+str(i))\\nff.write('\\n')\\nfor i in range(len(no_retrain)):\\n    ff.write('\\t'+str(no_retrain[i]))\\nff.write('\\n')\\n\\nff.write('retraining fs:\\n')\\nff.write('# of iters:')\\nfor i in iters:\\n    ff.write('\\t'+str(i))\\nff.write('\\n')\\nfor i in range(len(retrain)):\\n    ff.write('\\t'+str(retrain[i]))\\nff.write('\\n')\\nff.close()\\n\""
      ]
     },
     "execution_count": 19,
     "metadata": {},
     "output_type": "execute_result"
    }
   ],
   "source": [
    "no_retrain = nb_retrain_new_l2_errors\n",
    "retrain = nb_train_all_l2_errors\n",
    "fig,ax = plt.subplots()\n",
    "ax.plot(iters, no_retrain, label='without retraing fs')\n",
    "ax.plot(iters, retrain, label='retrain fs')\n",
    "ax.legend()\n",
    "ax.set_xlabel('Total number of data points')\n",
    "ax.set_ylabel('Error rate')\n",
    "ax.set_title('Newsgroup Data')\n",
    "plt.show()\n",
    "\n",
    "\"\"\"\n",
    "ff = open('comparison_retraining_fs_newsgroup-200tasks.txt','w')\n",
    "ff.write('without retraining fs:\\n')\n",
    "ff.write('# of iters:')\n",
    "for i in iters:\n",
    "    ff.write('\\t'+str(i))\n",
    "ff.write('\\n')\n",
    "for i in range(len(no_retrain)):\n",
    "    ff.write('\\t'+str(no_retrain[i]))\n",
    "ff.write('\\n')\n",
    "\n",
    "ff.write('retraining fs:\\n')\n",
    "ff.write('# of iters:')\n",
    "for i in iters:\n",
    "    ff.write('\\t'+str(i))\n",
    "ff.write('\\n')\n",
    "for i in range(len(retrain)):\n",
    "    ff.write('\\t'+str(retrain[i]))\n",
    "ff.write('\\n')\n",
    "ff.close()\n",
    "\"\"\""
   ]
  },
  {
   "cell_type": "markdown",
   "metadata": {},
   "source": [
    "# train all"
   ]
  },
  {
   "cell_type": "code",
   "execution_count": null,
   "metadata": {
    "collapsed": true
   },
   "outputs": [],
   "source": []
  },
  {
   "cell_type": "code",
   "execution_count": 17,
   "metadata": {
    "collapsed": false
   },
   "outputs": [
    {
     "name": "stdout",
     "output_type": "stream",
     "text": [
      "TOTALS: fit time: 51.824267\n",
      "Training accuracy of fs is  0.995275\n",
      "ws: feature_time (s): 0.014601, train_time (s): 155.652231\n",
      "Initial Error l2:  0.078045\n"
     ]
    }
   ],
   "source": [
    "xs = []\n",
    "ys = []\n",
    "dy = []\n",
    "ss = []\n",
    "nb_train_all_l1 = nc.UserDefineModel(xs,ys,dy,ss,strategy = 'train-all',penalty = 'l1') # using the default value \n",
    "nb_train_all_l2 = nc.UserDefineModel(xs,ys,dy,ss,strategy = 'train-all',penalty = 'l2') # using the default value \n",
    "test_xs,test_ys,test_ss = nc.generate_additional_data (tasks, nb_train_all_l1, nb_train_all_l2,3)\n",
    "\n",
    "nb_train_all_l2.train_all_fs()\n",
    "nb_train_all_l2.train_ws()\n",
    "nb_train_all_l2_errors = []\n",
    "#nb_train_all_l2.strategy = 'retrain-new'\n",
    "nb_err = nc.seg_model_error_01(nb_train_all_l2,test_xs,test_ys,test_ss)\n",
    "nb_train_all_l2_errors.append(nb_err)\n",
    "#print \"Initial Error OracleMTL---Train All: %f\" % oracle_err\n",
    "print 'Initial Error l2: ', nb_err"
   ]
  },
  {
   "cell_type": "code",
   "execution_count": 18,
   "metadata": {
    "collapsed": true
   },
   "outputs": [],
   "source": [
    "nb_train_all_l2.xs += nb_retrain_new_l2.xs[200000:]\n",
    "nb_train_all_l2.ys += nb_retrain_new_l2.ys[200000:]\n",
    "nb_train_all_l2.ss += nb_retrain_new_l2.ss[200000:]\n",
    "nb_train_all_l2.target_y += nb_retrain_new_l2.target_y[200000:]\n",
    "segment = nb_train_all_l2.segments\n",
    "seg = nb_retrain_new_l2.segments\n",
    "for s in perm:\n",
    "    segment[s].xs += seg[s].xs[20:]\n",
    "    segment[s].ys += seg[s].ys[20:]\n",
    "    segment[s].pref = seg[s].pref"
   ]
  },
  {
   "cell_type": "code",
   "execution_count": 19,
   "metadata": {
    "collapsed": false,
    "scrolled": false
   },
   "outputs": [
    {
     "name": "stdout",
     "output_type": "stream",
     "text": [
      "# of points is 20\n",
      "ws: feature_time (s): 0.000316, train_time (s): 3.270682\n",
      "0.516125\n",
      "# of points is 21\n",
      "ws: feature_time (s): 0.000346, train_time (s): 3.703326\n",
      "0.43975\n",
      "# of points is 22\n",
      "ws: feature_time (s): 0.000330, train_time (s): 3.944754\n",
      "0.383\n",
      "# of points is 23\n",
      "ws: feature_time (s): 0.000371, train_time (s): 3.747432\n",
      "0.32725\n",
      "# of points is 24\n",
      "ws: feature_time (s): 0.000397, train_time (s): 3.844710\n",
      "0.284875\n",
      "# of points is 25\n",
      "ws: feature_time (s): 0.000293, train_time (s): 3.436981\n",
      "0.254\n",
      "# of points is 26\n",
      "ws: feature_time (s): 0.000328, train_time (s): 3.964290\n",
      "0.2235\n",
      "# of points is 27\n",
      "ws: feature_time (s): 0.000345, train_time (s): 3.951323\n",
      "0.20225\n",
      "# of points is 28\n",
      "ws: feature_time (s): 0.000359, train_time (s): 4.420275\n",
      "0.192125\n",
      "# of points is 29\n",
      "ws: feature_time (s): 0.000316, train_time (s): 3.661329\n",
      "0.182\n",
      "# of points is 30\n",
      "ws: feature_time (s): 0.000300, train_time (s): 3.744650\n",
      "0.17275\n",
      "# of points is 31\n",
      "ws: feature_time (s): 0.000299, train_time (s): 3.673812\n",
      "0.5015\n",
      "# of points is 32\n",
      "ws: feature_time (s): 0.000296, train_time (s): 3.749259\n",
      "0.43175\n",
      "# of points is 33\n",
      "ws: feature_time (s): 0.000265, train_time (s): 3.658149\n",
      "0.368625\n",
      "# of points is 34\n",
      "ws: feature_time (s): 0.000322, train_time (s): 61.303101\n",
      "0.33525\n",
      "# of points is 35\n",
      "ws: feature_time (s): 0.000297, train_time (s): 3.958166\n",
      "0.2925\n",
      "# of points is 36\n",
      "ws: feature_time (s): 0.000322, train_time (s): 4.397833\n",
      "0.2655\n",
      "# of points is 37\n",
      "ws: feature_time (s): 0.000342, train_time (s): 4.795685\n",
      "0.245375\n",
      "# of points is 38\n",
      "ws: feature_time (s): 0.000349, train_time (s): 4.680812\n",
      "0.2145\n",
      "# of points is 39\n",
      "ws: feature_time (s): 0.000315, train_time (s): 13.838472\n",
      "0.488875\n",
      "# of points is 40\n",
      "ws: feature_time (s): 0.000296, train_time (s): 4.233993\n",
      "0.444875\n",
      "# of points is 41\n",
      "ws: feature_time (s): 0.000344, train_time (s): 4.847703\n",
      "0.389\n",
      "# of points is 42\n",
      "ws: feature_time (s): 0.000376, train_time (s): 5.173120\n",
      "0.344\n",
      "# of points is 43\n",
      "ws: feature_time (s): 0.000335, train_time (s): 5.526472\n",
      "0.31725\n",
      "# of points is 44\n",
      "ws: feature_time (s): 0.000364, train_time (s): 5.139742\n",
      "0.284\n",
      "# of points is 45\n",
      "ws: feature_time (s): 0.000346, train_time (s): 5.210912\n",
      "0.256125\n",
      "# of points is 46\n",
      "ws: feature_time (s): 0.000300, train_time (s): 4.536136\n",
      "0.235875\n",
      "# of points is 47\n",
      "ws: feature_time (s): 0.000340, train_time (s): 4.860701\n",
      "0.217125\n",
      "# of points is 48\n",
      "ws: feature_time (s): 0.000759, train_time (s): 5.976700\n",
      "0.2005\n",
      "# of points is 49\n",
      "ws: feature_time (s): 0.000309, train_time (s): 5.109263\n",
      "0.474375\n",
      "# of points is 50\n",
      "ws: feature_time (s): 0.000435, train_time (s): 5.504034\n",
      "0.44175\n",
      "# of points is 51\n",
      "ws: feature_time (s): 0.000393, train_time (s): 5.544863\n",
      "0.40175\n",
      "# of points is 52\n",
      "ws: feature_time (s): 0.000331, train_time (s): 5.770668\n",
      "0.374125\n",
      "# of points is 53\n",
      "ws: feature_time (s): 0.000474, train_time (s): 8.323020\n",
      "0.3425\n",
      "# of points is 54\n",
      "ws: feature_time (s): 0.000328, train_time (s): 5.573217\n",
      "0.31075\n",
      "# of points is 55\n",
      "ws: feature_time (s): 0.000283, train_time (s): 4.881414\n",
      "0.28225\n",
      "# of points is 56\n",
      "ws: feature_time (s): 0.000312, train_time (s): 4.919135\n",
      "0.25775\n",
      "# of points is 57\n",
      "ws: feature_time (s): 0.000291, train_time (s): 4.987922\n",
      "0.233125\n",
      "# of points is 58\n",
      "ws: feature_time (s): 0.000353, train_time (s): 6.876638\n",
      "0.219375\n"
     ]
    }
   ],
   "source": [
    "for i in range(20,lt):\n",
    "    print '# of points is', i\n",
    "    nb_train_all_l2.train_ws(i,perm)    \n",
    "    if i<20+size:\n",
    "        nb_err = nc.seg_model_error_01(nb_train_all_l2,test_xss,test_yss,test_tss)\n",
    "    elif i<20+size+size1:\n",
    "        nb_err = nc.seg_model_error_01(nb_train_all_l2,test_xss1,test_yss1,test_tss1)\n",
    "    elif i<20+size+size1+size2:\n",
    "        nb_err = nc.seg_model_error_01(nb_train_all_l2,test_xss2,test_yss2,test_tss2)\n",
    "    elif i<20+size+size1+size2+size3:\n",
    "        nb_err = nc.seg_model_error_01(nb_train_all_l2,test_xss3,test_yss3,test_tss3)    \n",
    "    print nb_err\n",
    "    nb_train_all_l2_errors.append(nb_err)"
   ]
  },
  {
   "cell_type": "code",
   "execution_count": 18,
   "metadata": {
    "collapsed": false
   },
   "outputs": [
    {
     "data": {
      "image/png": "[encoded data removed]",
      "text/plain": [
       "<matplotlib.figure.Figure at 0x11b971310>"
      ]
     },
     "metadata": {},
     "output_type": "display_data"
    }
   ],
   "source": [
    "iters = range(20,lt+1)\n",
    "plt.plot(iters,nb_train_all_l2_errors)\n",
    "plt.show()"
   ]
  },
  {
   "cell_type": "code",
   "execution_count": null,
   "metadata": {
    "collapsed": true
   },
   "outputs": [],
   "source": []
  }
 ],
 "metadata": {
  "kernelspec": {
   "display_name": "Python 2",
   "language": "python",
   "name": "python2"
  },
  "language_info": {
   "codemirror_mode": {
    "name": "ipython",
    "version": 2
   },
   "file_extension": ".py",
   "mimetype": "text/x-python",
   "name": "python",
   "nbconvert_exporter": "python",
   "pygments_lexer": "ipython2",
   "version": "2.7.11"
  }
 },
 "nbformat": 4,
 "nbformat_minor": 0
}
