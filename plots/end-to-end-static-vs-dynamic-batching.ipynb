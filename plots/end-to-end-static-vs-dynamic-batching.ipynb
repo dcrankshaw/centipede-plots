{
 "cells": [
  {
   "cell_type": "code",
   "execution_count": 1,
   "metadata": {
    "collapsed": true
   },
   "outputs": [],
   "source": [
    "%matplotlib inline\n",
    "import json\n",
    "import matplotlib.pyplot as plt\n",
    "import numpy as np\n",
    "import os\n",
    "import shutil\n"
   ]
  },
  {
   "cell_type": "code",
   "execution_count": 28,
   "metadata": {
    "collapsed": false,
    "scrolled": false
   },
   "outputs": [],
   "source": [
    "def parse_logs(fname):\n",
    "\n",
    "    first_trial = True\n",
    "    batch_sizes = []\n",
    "    p99_lat = []\n",
    "    avg_lat = []\n",
    "    thrus = []\n",
    "    cur_p99 = []\n",
    "    cur_avg = []\n",
    "    cur_thrus = []\n",
    "    with open(fname, 'r') as f:\n",
    "        lines = [line.rstrip('\\n') for line in f]\n",
    "        i = 0\n",
    "        while i < len(lines):\n",
    "            l = lines[i]\n",
    "            if l.startswith(\"EXPERIMENT RUN\"):\n",
    "                # save previous batch\n",
    "                if not first_trial:\n",
    "                    p99_lat.append(np.mean(cur_p99))\n",
    "                    avg_lat.append(np.mean(cur_avg))\n",
    "                    thrus.append(np.mean(cur_thrus))\n",
    "                    \n",
    "                first_trial = False\n",
    "                cur_p99 = []\n",
    "                cur_avg = []\n",
    "                cur_thrus = []\n",
    "                i += 1\n",
    "            elif l.strip() == \"digits_bench Metrics\":\n",
    "                i += 1\n",
    "                lat_line = lines[i + 25]\n",
    "                acc_line = lines[i + 13]\n",
    "                thru_line = lines[i + 37]\n",
    "                \n",
    "                lats = lat_line.split(\",\")\n",
    "                # print lats\n",
    "                mean = float(lats[3].split(\":\")[1].strip()) / 1000.0\n",
    "                max_l = float(lats[2].split(\":\")[1].strip()) / 1000.0\n",
    "                # print max_l\n",
    "                p99 = float(lats[6].split(\":\")[1].strip()) / 1000.0\n",
    "                thru = float(thru_line.split(\",\")[1].split(\":\")[1].strip())\n",
    "                acc = float(acc_line.split(\",\")[1].split(\":\")[1].rstrip(\" }\"))\n",
    "                cur_avg.append(mean)\n",
    "                cur_p99.append(p99)\n",
    "                cur_thrus.append(thru)\n",
    "            else:\n",
    "                i += 1\n",
    "                \n",
    "        # save last batch        \n",
    "        if not first_trial:\n",
    "            p99_lat.append(np.mean(cur_p99))\n",
    "            avg_lat.append(np.mean(cur_avg))\n",
    "            thrus.append(np.mean(cur_thrus))\n",
    "\n",
    "    return (acc, p99_lat, avg_lat,  thrus)\n",
    "\n",
    "\n"
   ]
  },
  {
   "cell_type": "code",
   "execution_count": 30,
   "metadata": {
    "collapsed": false
   },
   "outputs": [
    {
     "name": "stdout",
     "output_type": "stream",
     "text": [
      "[1017.9623023141958, 2239.1054939423702, 3062.5830818093145, 4048.8733752181943, 5330.5398290551257, 5968.7258874478812, 6551.0794992220026, 6541.7808269472926, 6544.0232121916233, 7263.9644917927217, 7262.338732356714, 8162.688975833772, 8154.059821020619, 8151.2729494073965, 8149.8858770062652, 8137.500257090931]\n",
      "0.589868698775\n"
     ]
    }
   ],
   "source": [
    "cf = \"../results/end_to_end_THRUPUT/dyn_batching_1.txt\"\n",
    "acc, p99, avg, thrus = parse_logs(cf)\n",
    "print thrus\n",
    "print acc"
   ]
  },
  {
   "cell_type": "code",
   "execution_count": 27,
   "metadata": {
    "collapsed": false
   },
   "outputs": [
    {
     "name": "stdout",
     "output_type": "stream",
     "text": [
      "[20.209772727272728, 20.208500000000001, 20.207318181818181, 20.203454545454544, 20.197590909090909, 20.197772727272728, 20.19859090909091, 20.425599999999999, 21.739722222222227, 25.583722222222221, 26.915833333333335, 24.135249999999999, 25.500937499999999, 28.643062500000003, 26.801625000000001, 29.9876875]\n"
     ]
    }
   ],
   "source": [
    "cf = \"../results/end_to_end_THRUPUT/static_batching_1.txt\"\n",
    "p99, avg, thrus = parse_logs(cf)\n",
    "print "
   ]
  },
  {
   "cell_type": "code",
   "execution_count": 31,
   "metadata": {
    "collapsed": false
   },
   "outputs": [
    {
     "name": "stdout",
     "output_type": "stream",
     "text": [
      "[20.227454545454545, 20.226136363636364, 20.224136363636362, 20.215545454545452, 20.211363636363636, 20.213954545454545, 20.210954545454545, 20.213600000000003, 20.215399999999999, 20.211888888888886, 29.23672222222222, 21.69027777777778, 28.986562500000002, 35.638437499999995, 36.826875000000001, 28.729875]\n"
     ]
    }
   ],
   "source": [
    "cf = \"../results/end_to_end_THRUPUT/dyn_batching_8_workers.txt\"\n",
    "acc, p99, avg, thrus = parse_logs(cf)\n",
    "print p99 "
   ]
  },
  {
   "cell_type": "code",
   "execution_count": null,
   "metadata": {
    "collapsed": true
   },
   "outputs": [],
   "source": []
  }
 ],
 "metadata": {
  "kernelspec": {
   "display_name": "Python 2",
   "language": "python",
   "name": "python2"
  },
  "language_info": {
   "codemirror_mode": {
    "name": "ipython",
    "version": 2
   },
   "file_extension": ".py",
   "mimetype": "text/x-python",
   "name": "python",
   "nbconvert_exporter": "python",
   "pygments_lexer": "ipython2",
   "version": "2.7.11"
  }
 },
 "nbformat": 4,
 "nbformat_minor": 0
}
