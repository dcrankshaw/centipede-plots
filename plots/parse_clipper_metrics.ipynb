{
 "cells": [
  {
   "cell_type": "code",
   "execution_count": 53,
   "metadata": {
    "collapsed": false,
    "scrolled": true
   },
   "outputs": [
    {
     "name": "stdout",
     "output_type": "stream",
     "text": [
      "873\n",
      "1\n",
      "5\n",
      "10\n",
      "25\n",
      "50\n",
      "100\n",
      "150\n",
      "200\n",
      "250\n",
      "[1, 5, 10, 25, 50, 100, 150, 200, 250]\n",
      "[5.2678888888888888, 20.762333333333331, 28.843666666666667, 75.06561111111111, 127.03761111111112, 205.7788888888889, 324.93899999999996, 422.11500000000001, 504.44577777777772]\n",
      "[0.89736837398487479, 0.49431041878910115, 1.1145834659051495, 6.7544399438753162, 9.8263843804552753, 17.347279506671324, 10.215906524800275, 19.593714104147328, 25.391411608573367]\n",
      "[1.4512319498486814, 8.9700459063724924, 15.126533928353869, 38.695847457544744, 75.922118487248099, 126.6002723194985, 258.88428447903152, 311.35692979896237, 393.77315812797229]\n",
      "[0.11084596740491594, 0.299154870568416, 0.50462037544804461, 1.908390947793962, 3.6038711513291202, 7.8873266172412739, 6.0404348907309062, 8.5646146752092225, 13.750615891464568]\n",
      "[719.65894092524763, 561.61706214748585, 666.08606199162205, 657.230411319876, 669.60649018406082, 739.31492499373076, 582.08646657059091, 646.10835567492768, 639.44561689732575]\n",
      "[45.771466980183767, 17.210465644902673, 20.097901056350857, 27.25463503021092, 28.9001048674583, 53.466751562737436, 13.390921670201893, 17.894223525931448, 20.801607109300146]\n"
     ]
    }
   ],
   "source": [
    "import numpy as np\n",
    "\n",
    "fname = \"/Users/crankshaw/model-serving/centipede-plots/results/faas_benchmarks/spark_10rf.txt\"\n",
    "\n",
    "cur_batch = None\n",
    "batch_sizes = []\n",
    "p99_lat = []\n",
    "p99_err = []\n",
    "avg_lat = []\n",
    "avg_err = []\n",
    "thrus = []\n",
    "thrus_err = []\n",
    "cur_p99 = []\n",
    "cur_avg = []\n",
    "cur_thrus = []\n",
    "with open(fname, 'r') as f:\n",
    "    lines = [line.rstrip('\\n') for line in f]\n",
    "    print len(lines)\n",
    "    i = 0\n",
    "    while i < len(lines):\n",
    "        l = lines[i]\n",
    "        if l.startswith(\"EXPERIMENT RUN BATCH SIZE\"):\n",
    "            # save previous batch\n",
    "            if cur_batch is not None:\n",
    "                batch_sizes.append(cur_batch)\n",
    "                p99_lat.append(np.mean(cur_p99))\n",
    "                p99_err.append(np.std(cur_p99)/np.sqrt(float(len(cur_p99))))\n",
    "                avg_lat.append(np.mean(cur_avg))\n",
    "                avg_err.append(np.std(cur_avg)/np.sqrt(float(len(cur_avg))))\n",
    "                thrus.append(np.mean(cur_thrus))\n",
    "                thrus_err.append(np.std(cur_thrus)/np.sqrt(float(len(cur_thrus))))\n",
    "                \n",
    "            cur_batch = int(l.split(\":\")[1].strip())\n",
    "            cur_p99 = []\n",
    "            cur_avg = []\n",
    "            cur_thrus = []\n",
    "            print cur_batch\n",
    "            i += 1\n",
    "        elif l.strip() == \"faas Metrics\":\n",
    "            trial_lines = lines[i:i+8]\n",
    "#             print trial_lines\n",
    "            lats = trial_lines[5].split(\",\")\n",
    "            mean = float(lats[3].split(\":\")[1].strip()) / 1000.0\n",
    "            p99 = float(lats[6].split(\":\")[1].strip()) / 1000.0\n",
    "            thru = float(trial_lines[7].split(\",\")[1].split(\":\")[1].strip())\n",
    "            cur_avg.append(mean)\n",
    "            cur_p99.append(p99)\n",
    "            cur_thrus.append(thru)\n",
    "            \n",
    "            i += 8\n",
    "        else:\n",
    "            i += 1\n",
    "            \n",
    "    # save last batch        \n",
    "    if cur_batch is not None:\n",
    "        batch_sizes.append(cur_batch)\n",
    "        p99_lat.append(np.mean(cur_p99))\n",
    "        p99_err.append(np.std(cur_p99)/np.sqrt(float(len(cur_p99))))\n",
    "        avg_lat.append(np.mean(cur_avg))\n",
    "        avg_err.append(np.std(cur_avg)/np.sqrt(float(len(cur_avg))))\n",
    "        thrus.append(np.mean(cur_thrus))\n",
    "        thrus_err.append(np.std(cur_thrus)/np.sqrt(float(len(cur_thrus))))\n",
    "\n",
    "print batch_sizes\n",
    "print p99_lat\n",
    "print p99_err\n",
    "print avg_lat\n",
    "print avg_err\n",
    "print thrus\n",
    "print thrus_err\n",
    "\n",
    "        "
   ]
  },
  {
   "cell_type": "code",
   "execution_count": 4,
   "metadata": {
    "collapsed": false
   },
   "outputs": [
    {
     "data": {
      "text/plain": [
       "False"
      ]
     },
     "execution_count": 4,
     "metadata": {},
     "output_type": "execute_result"
    }
   ],
   "source": [
    "x = \"aaaa dsfs\"\n",
    "x.startswith(\"ab\")"
   ]
  },
  {
   "cell_type": "code",
   "execution_count": 12,
   "metadata": {
    "collapsed": true
   },
   "outputs": [],
   "source": [
    "x = \"aaa\"\n",
    "y = \"aaa\""
   ]
  },
  {
   "cell_type": "code",
   "execution_count": 13,
   "metadata": {
    "collapsed": false
   },
   "outputs": [
    {
     "data": {
      "text/plain": [
       "True"
      ]
     },
     "execution_count": 13,
     "metadata": {},
     "output_type": "execute_result"
    }
   ],
   "source": [
    "x == y"
   ]
  },
  {
   "cell_type": "code",
   "execution_count": 45,
   "metadata": {
    "collapsed": false
   },
   "outputs": [
    {
     "name": "stdout",
     "output_type": "stream",
     "text": [
      "[(0, '\\t\\tHistStats { name: \"pyspark_rf_faas_latency\"'), (1, ' min: 151536'), (2, ' max: 279231'), (3, ' mean: 189557.6075949367'), (4, ' std: 32141.773285458097'), (5, ' p95: 252872'), (6, ' p99: 274365'), (7, ' p50: 172889 }')]\n",
      "189.557607595 274.365\n",
      "789.988466168\n"
     ]
    }
   ],
   "source": [
    "\n",
    "s = \"\"\"\n",
    "faas Metrics\n",
    "\tCounters:\n",
    "\t\tCounterStats { name: \"feature replicas counter\", count: 0 }\n",
    "\t\tCounterStats { name: \"pyspark_rf_prediction_counter\", count: 11850 }\n",
    "\tHistograms:\n",
    "\t\tHistStats { name: \"pyspark_rf_faas_latency\", min: 151536, max: 279231, mean: 189557.6075949367, std: 32141.773285458097, p95: 252872, p99: 274365, p50: 172889 }\n",
    "\tMeters:\n",
    "\t\tMeterStats { name: \"pyspark_rf_faas_thruput\", rate: 789.988466168394, unit: \"events per second\" }\n",
    "\"\"\"\n",
    "lines = s.split(\"\\n\")\n",
    "lines = lines[1:-1]\n",
    "# print lines\n",
    "lats = lines[5].split(\",\")\n",
    "# print zip(range(len(lats)),lats)\n",
    "mean_lat = float(lats[3].split(\":\")[1].strip()) / 1000.0\n",
    "p99_lat = float(lats[6].split(\":\")[1].strip()) / 1000.0\n",
    "print mean_lat, p99_lat\n",
    "\n",
    "thruput = lines[7].split(\",\")\n",
    "# print zip(range(len(thruput)), thruput)\n",
    "thru = float(lines[7].split(\",\")[1].split(\":\")[1].strip())\n",
    "print thru\n"
   ]
  },
  {
   "cell_type": "code",
   "execution_count": null,
   "metadata": {
    "collapsed": true
   },
   "outputs": [],
   "source": []
  },
  {
   "cell_type": "code",
   "execution_count": null,
   "metadata": {
    "collapsed": true
   },
   "outputs": [],
   "source": []
  }
 ],
 "metadata": {
  "kernelspec": {
   "display_name": "Python 2",
   "language": "python",
   "name": "python2"
  },
  "language_info": {
   "codemirror_mode": {
    "name": "ipython",
    "version": 2
   },
   "file_extension": ".py",
   "mimetype": "text/x-python",
   "name": "python",
   "nbconvert_exporter": "python",
   "pygments_lexer": "ipython2",
   "version": "2.7.11"
  }
 },
 "nbformat": 4,
 "nbformat_minor": 0
}
