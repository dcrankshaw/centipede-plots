{
 "cells": [
  {
   "cell_type": "code",
   "execution_count": 1,
   "metadata": {
    "collapsed": true
   },
   "outputs": [],
   "source": [
    "import json\n",
    "import numpy as np\n",
    "import matplotlib.pyplot as plt\n",
    "import os\n",
    "import pandas as pd\n",
    "import sys\n",
    "%matplotlib inline\n",
    "\n",
    "with open(\"latency_breakdown_160909-161648_results.json\", \"r\") as f:\n",
    "    results = json.load(f)"
   ]
  },
  {
   "cell_type": "code",
   "execution_count": 16,
   "metadata": {
    "collapsed": false
   },
   "outputs": [
    {
     "name": "stdout",
     "output_type": "stream",
     "text": [
      "[u'noop:send_time_hist:', u'noop:model_batch_size', u'noop:recv_time_hist:', u'noop:model_latency', u'noop:rpc_time_hist:', u'update_latency', u'noop:batch_setup_hist:', u'noop:ser_time_hist:', u'prediction_latency', u'in_time_predictions']\n"
     ]
    }
   ],
   "source": [
    "res_dict = dict([(r[\"name\"], r) for r in results[\"histograms\"]])\n",
    "print res_dict.keys()"
   ]
  },
  {
   "cell_type": "code",
   "execution_count": 17,
   "metadata": {
    "collapsed": false
   },
   "outputs": [
    {
     "name": "stdout",
     "output_type": "stream",
     "text": [
      "end to end: 16599.660992, batch setup: 41.156339, send_time: 492.553573, recv_time: 14787.652435, rpc_time: 16594.122231, ser_time: 1188.816730\n"
     ]
    }
   ],
   "source": [
    "end_to_end_latency_micros = res_dict[\"noop:model_latency\"][\"mean\"]\n",
    "batch_setup_micros = res_dict[\"noop:batch_setup_hist:\"][\"mean\"] / 1000.0\n",
    "send_time_micros = res_dict[\"noop:send_time_hist:\"][\"mean\"] / 1000.0\n",
    "recv_time_micros = res_dict[\"noop:recv_time_hist:\"][\"mean\"] / 1000.0\n",
    "rpc_time_micros = res_dict[\"noop:rpc_time_hist:\"][\"mean\"] / 1000.0\n",
    "ser_time_micros = res_dict[\"noop:ser_time_hist:\"][\"mean\"] / 1000.0\n",
    "\n",
    "print \"end to end: %f, batch setup: %f, send_time: %f, recv_time: %f, rpc_time: %f, ser_time: %f\" % (\n",
    "    end_to_end_latency_micros, batch_setup_micros, send_time_micros, recv_time_micros, rpc_time_micros, ser_time_micros)"
   ]
  },
  {
   "cell_type": "code",
   "execution_count": null,
   "metadata": {
    "collapsed": true
   },
   "outputs": [],
   "source": []
  }
 ],
 "metadata": {
  "kernelspec": {
   "display_name": "Python 2",
   "language": "python",
   "name": "python2"
  },
  "language_info": {
   "codemirror_mode": {
    "name": "ipython",
    "version": 2
   },
   "file_extension": ".py",
   "mimetype": "text/x-python",
   "name": "python",
   "nbconvert_exporter": "python",
   "pygments_lexer": "ipython2",
   "version": "2.7.12"
  }
 },
 "nbformat": 4,
 "nbformat_minor": 0
}
