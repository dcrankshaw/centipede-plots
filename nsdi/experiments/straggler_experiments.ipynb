{
 "cells": [
  {
   "cell_type": "markdown",
   "metadata": {},
   "source": [
    "# Straggler experiments (figure 9)\n",
    "\n",
    "Use bagging to train an ensemble of models for Clipper to demonstrate the effects of stragglers"
   ]
  },
  {
   "cell_type": "code",
   "execution_count": 1,
   "metadata": {
    "collapsed": true
   },
   "outputs": [],
   "source": [
    "import pandas as pd\n",
    "import numpy as np\n",
    "import sklearn.linear_model\n",
    "%matplotlib inline\n",
    "import matplotlib.pyplot as plt\n",
    "import os\n",
    "import sys\n",
    "from sklearn.ensemble import BaggingClassifier\n",
    "from sklearn.linear_model import LogisticRegression\n",
    "from sklearn.tree import DecisionTreeClassifier\n",
    "import warnings\n",
    "warnings.filterwarnings('ignore', message='Changing the shape of non-C contiguous array')\n",
    "\n",
    "\n",
    "def load_digits(digits_location, digits_filename = \"train-mnist-dense-with-labels.data\"):\n",
    "    digits_path = os.path.join(digits_location, digits_filename)\n",
    "    print \"Source file:\", digits_path\n",
    "    df = pd.read_csv(digits_path, sep=\",\", header=None)\n",
    "    data = df.values\n",
    "    print \"Number of image files:\", len(data)\n",
    "    y = data[:,0]\n",
    "    X = data[:,1:]\n",
    "    return (X, y)\n",
    "\n",
    "def to_image(x):\n",
    "    return np.reshape(x,[28,28])\n",
    "\n",
    "def display_digit(x):\n",
    "    plt.imshow(to_image(x), interpolation='none')\n",
    "\n",
    "def display_random_digits(X, y):\n",
    "    ind = np.random.permutation(len(X))\n",
    "    plt.figure()\n",
    "    for i in range(0, 16):\n",
    "        plt.subplot(4,4,i+1)\n",
    "        display_digit(X[ind[i],:])\n",
    "        plt.draw()\n",
    "        # Display the plot\n",
    "\n",
    "        \n",
    "def normalize_digits(X):\n",
    "    mu = np.mean(X,0)\n",
    "    sigma = np.var(X,0)\n",
    "    Z = (X - mu) / np.array([np.sqrt(z) if z > 0 else 1. for z in sigma])\n",
    "    return Z \n",
    "\n",
    "def fourier_project(X, nfeatures = 4096, scale = 1.e-4):\n",
    "    (n,d) = X.shape\n",
    "    W = np.random.normal(scale = scale, size = [d, nfeatures])\n",
    "    phase = np.random.uniform( size = [1, nfeatures]) * 2.0 * np.pi\n",
    "    randomFeatures = np.cos(X.dot(W) + phase)\n",
    "    return randomFeatures\n",
    "\n",
    "def filter_two_class(X, y, digitA = 3, digitB = 9):\n",
    "    indexes = (y == (digitA + 1)) | (y == (digitB + 1))\n",
    "    binary_labels = (y == (digitA + 1)) * 1.\n",
    "    return (X[indexes], binary_labels[indexes])\n",
    "    \n",
    "#     return (yInd, yBinary[yInd])\n",
    "\n",
    "\n",
    "def train_test_split(y, propTrain = 0.75):\n",
    "    ind = np.random.permutation(len(y))\n",
    "    split_ind = ind[0.75 * len(y)]\n",
    "    train_ind = ind[:split_ind]\n",
    "    test_ind = ind[split_ind:]\n",
    "    print \"Train size: \", len(train_ind)\n",
    "    print \"Train true: \", np.mean(y[train_ind] == 1.0)\n",
    "    print \"Test size:  \", len(test_ind)\n",
    "    print \"Test true:  \", np.mean(y[test_ind] == 1.0)\n",
    "    return (train_ind, test_ind)\n"
   ]
  },
  {
   "cell_type": "code",
   "execution_count": 2,
   "metadata": {
    "collapsed": false
   },
   "outputs": [
    {
     "name": "stdout",
     "output_type": "stream",
     "text": [
      "Source file: /Users/crankshaw/model-serving/data/mnist_data/train-mnist-dense-with-labels.data\n",
      "Number of image files: 60000\n",
      "Source file: /Users/crankshaw/model-serving/data/mnist_data/test-mnist-dense-with-labels.data\n",
      "Number of image files: 10000\n",
      "Ensemble score: 0.921600\n",
      "0.7125\n",
      "0.7272\n",
      "0.7324\n",
      "0.7639\n",
      "0.6662\n",
      "0.5567\n",
      "0.5832\n",
      "0.7253\n",
      "0.7346\n",
      "0.7804\n",
      "0.6162\n",
      "0.6649\n",
      "0.4876\n",
      "0.7609\n",
      "0.7771\n",
      "0.7331\n",
      "0.7796\n",
      "0.6734\n",
      "0.7468\n",
      "0.7106\n"
     ]
    }
   ],
   "source": [
    "# Load data\n",
    "train_x, train_y = load_digits(os.path.expanduser(\"/Users/crankshaw/model-serving/data/mnist_data\"))\n",
    "train_x = normalize_digits(train_x)\n",
    "\n",
    "test_x, test_y = load_digits(os.path.expanduser(\"/Users/crankshaw/model-serving/data/mnist_data\"), \"test-mnist-dense-with-labels.data\")\n",
    "test_x = normalize_digits(test_x)\n",
    "\n",
    "# Train decision tree classifiers\n",
    "models = BaggingClassifier(base_estimator=DecisionTreeClassifier(), n_estimators=20, max_samples=0.1, n_jobs=-1)\n",
    "models.fit(train_x, train_y)\n",
    "\n",
    "# Look at baseline score\n",
    "print \"Ensemble score: %f\" % models.score(test_x, test_y)\n",
    "for m in models.estimators_:\n",
    "    print m.score(test_x, test_y - 1)"
   ]
  },
  {
   "cell_type": "code",
   "execution_count": 3,
   "metadata": {
    "collapsed": false,
    "scrolled": true
   },
   "outputs": [
    {
     "name": "stdout",
     "output_type": "stream",
     "text": [
      "0.7125\n",
      "0.7706\n",
      "0.8232\n",
      "0.8615\n",
      "0.8684\n",
      "0.8717\n",
      "0.878\n",
      "0.8886\n",
      "0.8955\n",
      "0.9017\n",
      "0.9022\n",
      "0.9056\n",
      "0.905\n",
      "0.9099\n",
      "0.9126\n",
      "0.9142\n",
      "0.9155\n",
      "0.9172\n",
      "0.9209\n",
      "0.9216\n"
     ]
    }
   ],
   "source": [
    "# Run straggler experiment\n",
    "\n",
    "def vote(estimators, x, y):\n",
    "    votes = np.zeros(len(estimators[0].classes_))\n",
    "    for m in estimators:\n",
    "        y_pred = m.predict(x)\n",
    "        votes[y_pred] += 1\n",
    "    y_hat = np.argmax(votes) + 1\n",
    "    return int(y_hat == y)\n",
    "    \n",
    "scores = []    \n",
    "for num_estimators in range(1,21):\n",
    "    num_correct = 0\n",
    "    for i in range(len(test_y)):\n",
    "        num_correct += vote(models.estimators_[:num_estimators], test_x[i].reshape(1,-1), test_y[i])\n",
    "    score = float(num_correct)/float(len(test_y))\n",
    "    print score\n",
    "    scores.append(score)\n",
    "scores.reverse()"
   ]
  },
  {
   "cell_type": "code",
   "execution_count": 6,
   "metadata": {
    "collapsed": false
   },
   "outputs": [
    {
     "name": "stdout",
     "output_type": "stream",
     "text": [
      "[0.7125, 0.7706, 0.8232, 0.8615, 0.8684, 0.8717, 0.878, 0.8886, 0.8955, 0.9017, 0.9022, 0.9056, 0.905, 0.9099, 0.9126, 0.9142, 0.9155, 0.9172, 0.9209, 0.9216]\n"
     ]
    },
    {
     "data": {
      "image/png": "[encoded data removed]",
      "text/plain": [
       "<matplotlib.figure.Figure at 0x112c7dad0>"
      ]
     },
     "metadata": {},
     "output_type": "display_data"
    }
   ],
   "source": [
    "print scores\n",
    "fig, ax = plt.subplots()\n",
    "ax.plot(range(20), scores)\n",
    "ax.set_xlabel(\"Number of stragglers\")\n",
    "ax.set_ylabel(\"Accuracy\")\n",
    "ax.set_ylim((ax.get_ylim()[0],1.0))\n",
    "plt.show()\n"
   ]
  },
  {
   "cell_type": "code",
   "execution_count": null,
   "metadata": {
    "collapsed": true
   },
   "outputs": [],
   "source": []
  }
 ],
 "metadata": {
  "kernelspec": {
   "display_name": "Python 2",
   "language": "python",
   "name": "python2"
  },
  "language_info": {
   "codemirror_mode": {
    "name": "ipython",
    "version": 2
   },
   "file_extension": ".py",
   "mimetype": "text/x-python",
   "name": "python",
   "nbconvert_exporter": "python",
   "pygments_lexer": "ipython2",
   "version": "2.7.13"
  }
 },
 "nbformat": 4,
 "nbformat_minor": 2
}
