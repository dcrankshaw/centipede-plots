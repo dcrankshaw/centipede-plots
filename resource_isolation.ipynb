{
 "cells": [
  {
   "cell_type": "code",
   "execution_count": 22,
   "metadata": {
    "collapsed": false
   },
   "outputs": [
    {
     "name": "stdout",
     "output_type": "stream",
     "text": [
      "10_reps_isolation_OFF_160915-144802_results.json\n",
      "10_reps_isolation_ON_160915-144533_results.json\n",
      "11_reps_isolation_OFF_160915-145351_results.json\n",
      "11_reps_isolation_ON_160915-145103_results.json\n",
      "12_reps_isolation_OFF_160915-150003_results.json\n",
      "12_reps_isolation_ON_160915-145704_results.json\n",
      "1_reps_isolation_OFF_160915-141424_results.json\n",
      "SKIPPING: 1_reps_isolation_OFF_CORE_BUDGET_160915-151100_results.json\n",
      "1_reps_isolation_ON_160915-141325_results.json\n",
      "2_reps_isolation_OFF_160915-141635_results.json\n",
      "SKIPPING: 2_reps_isolation_OFF_CORE_BUDGET_160915-151200_results.json\n",
      "2_reps_isolation_ON_160915-141526_results.json\n",
      "3_reps_isolation_OFF_160915-141915_results.json\n",
      "SKIPPING: 3_reps_isolation_OFF_CORE_BUDGET_160915-151309_results.json\n",
      "3_reps_isolation_ON_160915-141755_results.json\n",
      "4_reps_isolation_OFF_160915-142215_results.json\n",
      "SKIPPING: 4_reps_isolation_OFF_CORE_BUDGET_160915-151430_results.json\n",
      "4_reps_isolation_ON_160915-142043_results.json\n",
      "5_reps_isolation_OFF_160915-142535_results.json\n",
      "SKIPPING: 5_reps_isolation_OFF_CORE_BUDGET_160915-151603_results.json\n",
      "5_reps_isolation_ON_160915-142353_results.json\n",
      "6_reps_isolation_OFF_160915-142918_results.json\n",
      "SKIPPING: 6_reps_isolation_OFF_CORE_BUDGET_160915-151742_results.json\n",
      "6_reps_isolation_ON_160915-142730_results.json\n",
      "7_reps_isolation_OFF_160915-143326_results.json\n",
      "SKIPPING: 7_reps_isolation_OFF_CORE_BUDGET_160915-151934_results.json\n",
      "7_reps_isolation_ON_160915-143125_results.json\n",
      "8_reps_isolation_OFF_160915-143757_results.json\n",
      "SKIPPING: 8_reps_isolation_OFF_CORE_BUDGET_160915-152141_results.json\n",
      "8_reps_isolation_ON_160915-143545_results.json\n",
      "9_reps_isolation_OFF_160915-144248_results.json\n",
      "SKIPPING: 9_reps_isolation_OFF_CORE_BUDGET_160915-152358_results.json\n",
      "9_reps_isolation_ON_160915-144026_results.json\n",
      "['10_reps_isolation_OFF_160915-144802_results.json', '10_reps_isolation_ON_160915-144533_results.json', '11_reps_isolation_OFF_160915-145351_results.json', '11_reps_isolation_ON_160915-145103_results.json', '12_reps_isolation_OFF_160915-150003_results.json', '12_reps_isolation_ON_160915-145704_results.json', '1_reps_isolation_OFF_160915-141424_results.json', '1_reps_isolation_ON_160915-141325_results.json', '2_reps_isolation_OFF_160915-141635_results.json', '2_reps_isolation_ON_160915-141526_results.json', '3_reps_isolation_OFF_160915-141915_results.json', '3_reps_isolation_ON_160915-141755_results.json', '4_reps_isolation_OFF_160915-142215_results.json', '4_reps_isolation_ON_160915-142043_results.json', '5_reps_isolation_OFF_160915-142535_results.json', '5_reps_isolation_ON_160915-142353_results.json', '6_reps_isolation_OFF_160915-142918_results.json', '6_reps_isolation_ON_160915-142730_results.json', '7_reps_isolation_OFF_160915-143326_results.json', '7_reps_isolation_ON_160915-143125_results.json', '8_reps_isolation_OFF_160915-143757_results.json', '8_reps_isolation_ON_160915-143545_results.json', '9_reps_isolation_OFF_160915-144248_results.json', '9_reps_isolation_ON_160915-144026_results.json']\n"
     ]
    },
    {
     "data": {
      "text/plain": [
       "<matplotlib.legend.Legend at 0x10e5a4c90>"
      ]
     },
     "execution_count": 22,
     "metadata": {},
     "output_type": "execute_result"
    },
    {
     "data": {
      "image/png": "[encoded data removed]",
      "text/plain": [
       "<matplotlib.figure.Figure at 0x1191fec50>"
      ]
     },
     "metadata": {},
     "output_type": "display_data"
    }
   ],
   "source": [
    "import json\n",
    "import numpy as np\n",
    "import matplotlib.pyplot as plt\n",
    "import os\n",
    "import pandas as pd\n",
    "import sys\n",
    "from matplotlib.patches import Rectangle\n",
    "import seaborn as sns\n",
    "%matplotlib inline\n",
    "\n",
    "\n",
    "sns.set_style(\"white\")\n",
    "sns.set_context(\"paper\", font_scale=1.2,)\n",
    "\n",
    "fig_dir = \"/Users/crankshaw/model-serving/clipper_paper/ModelServingPaper/nsdi_2017/figs2\"\n",
    "\n",
    "# results_dir = os.path.abspath(\"/Users/crankshaw/clipper/experiments_logs/spark_svm_resource_isolation/\")\n",
    "results_dir = os.path.abspath(\"/Users/crankshaw/clipper/experiments_logs/sklearn_svm_resource_isolation/\")\n",
    "\n",
    "\n",
    "\n",
    "results_files = []\n",
    "\n",
    "for name in os.listdir(results_dir):\n",
    "    if \"results\" in name:\n",
    "        if not \"CORE_BUDGET\" in name:\n",
    "            print name\n",
    "            results_files.append(name)\n",
    "        else:\n",
    "            print \"SKIPPING: %s\" % name\n",
    "print results_files\n",
    "def is_replica_thru(n):\n",
    "    return \"model_thruput\" in n and (\"172\" in n or \"169\" in n)\n",
    "\n",
    "def get_all_thruputs(res):\n",
    "    agg_thru = [m[\"rate\"] for m in res[\"meters\"] if \"linear_svm:model_thruput\" in m[\"name\"]][0]\n",
    "#     agg_thru = [m[\"rate\"] for m in res[\"meters\"] if \"spark_svm:model_thruput\" in m[\"name\"]][0]\n",
    "\n",
    "    rep_thrus = [m[\"rate\"] for m in res[\"meters\"] if is_replica_thru(m[\"name\"])]\n",
    "    return (agg_thru, np.array(rep_thrus))\n",
    "\n",
    "def extract_results(i, df_iso_on, df_iso_off, fname):\n",
    "    with open(os.path.join(results_dir, fname), \"r\") as f:\n",
    "        splits = fname.split(\"_\")\n",
    "#         print splits\n",
    "        # 10_reps_isolation_OFF_160915-050009_config.json\n",
    "        num_reps = int(splits[0])\n",
    "        if splits[3] == \"OFF\":\n",
    "            iso_on = False\n",
    "        else:\n",
    "            assert splits[3] == \"ON\"\n",
    "            iso_on = True\n",
    "        res = json.load(f)\n",
    "        agg_thru, rep_thrus = get_all_thruputs(res)\n",
    "        avg_thru = np.mean(rep_thrus)\n",
    "        if iso_on:\n",
    "            df_iso_on.loc[i] = [num_reps, agg_thru, avg_thru]\n",
    "        else:\n",
    "            df_iso_off.loc[i] = [num_reps, agg_thru, avg_thru]\n",
    "\n",
    "    return rep_thrus\n",
    "\n",
    "df_iso_on = pd.DataFrame(columns=(\"total_reps\", \"aggregate_thru\", \"avg_thru\"))\n",
    "df_iso_off = pd.DataFrame(columns=(\"total_reps\", \"aggregate_thru\", \"avg_thru\"))\n",
    "\n",
    "all_rep_thrus = [extract_results(i, df_iso_on, df_iso_off, r) for (i,r) in enumerate(results_files)]\n",
    "\n",
    "\n",
    "def plot_thruputs(df, ax, cagg, cavg, label):\n",
    "    colors = sns.cubehelix_palette(2, start=2.8, rot=-0.1)\n",
    "    df.sort_values(\"total_reps\", inplace=True)\n",
    "    \n",
    "    df.plot(x=\"total_reps\", y=\"aggregate_thru\", ax=ax, color=cagg, label=\"%s Aggregate\" % label)\n",
    "    df.plot(x=\"total_reps\", y=\"avg_thru\", ax=ax, ls=\"--\", color=cavg, label=\"%s Average\" % label)\n",
    "\n",
    "agg_colors = sns.dark_palette(\"purple\", 2)\n",
    "avg_colors = sns.dark_palette(\"green\", 2)\n",
    "\n",
    "fig, ax = plt.subplots(figsize=(4,2))\n",
    "plot_thruputs(df_iso_on, ax, agg_colors[0], avg_colors[0], \"Isolation\")\n",
    "plot_thruputs(df_iso_off, ax, agg_colors[1], avg_colors[1], \"No Isolation\")\n",
    "ax.set_ylabel(\"Throughput\")\n",
    "ax.set_xlabel(\"Number of replicas\")\n",
    "# ax.set_title(\"Local Replicas: %d\" % df[\"local_reps\"].max())\n",
    "ax.legend(loc=0)\n"
   ]
  },
  {
   "cell_type": "code",
   "execution_count": null,
   "metadata": {
    "collapsed": true
   },
   "outputs": [],
   "source": []
  }
 ],
 "metadata": {
  "kernelspec": {
   "display_name": "Python 2",
   "language": "python",
   "name": "python2"
  },
  "language_info": {
   "codemirror_mode": {
    "name": "ipython",
    "version": 2
   },
   "file_extension": ".py",
   "mimetype": "text/x-python",
   "name": "python",
   "nbconvert_exporter": "python",
   "pygments_lexer": "ipython2",
   "version": "2.7.12"
  }
 },
 "nbformat": 4,
 "nbformat_minor": 0
}
