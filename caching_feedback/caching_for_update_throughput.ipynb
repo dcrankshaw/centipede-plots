{
 "cells": [
  {
   "cell_type": "code",
   "execution_count": 33,
   "metadata": {
    "collapsed": false
   },
   "outputs": [
    {
     "name": "stdout",
     "output_type": "stream",
     "text": [
      "['caching_off_window_100_160907-115933', 'caching_off_window_1_160907-115352', 'caching_off_window_20_160907-115644', 'caching_on_window_100_160907-120100', 'caching_on_window_1_160907-115518', 'caching_on_window_20_160907-115808']\n"
     ]
    }
   ],
   "source": [
    "import json\n",
    "import numpy as np\n",
    "import matplotlib.pyplot as plt\n",
    "import os\n",
    "import pandas as pd\n",
    "import sys\n",
    "%matplotlib inline\n",
    "fig_dir = \"/Users/crankshaw/model-serving/clipper_paper/ModelServingPaper/nsdi_2017/fake-figs\"\n",
    "\n",
    "log_loc = os.path.abspath(\"../faster_caching_feedback/\")\n",
    "\n",
    "results_files = []\n",
    "for name in os.listdir(log_loc):\n",
    "    if \"results\" in name:\n",
    "        results_files.append(name)\n",
    "\n",
    "exp_names = [f.split(\"_results\")[0] for f in results_files]\n",
    "print exp_names"
   ]
  },
  {
   "cell_type": "code",
   "execution_count": 34,
   "metadata": {
    "collapsed": false
   },
   "outputs": [],
   "source": [
    "def get_results(fname):\n",
    "    res_fname = fname + \"_results.json\"\n",
    "    conf_fname = fname + \"_config.json\"\n",
    "    with open(os.path.join(log_loc, res_fname), \"r\") as rf, open(os.path.join(log_loc, conf_fname), \"r\") as cf:\n",
    "        results = json.load(rf)\n",
    "        conf = json.load(cf)\n",
    "        cache_off = conf[\"clipper_conf\"][\"salt_cache\"]\n",
    "        window_size = conf[\"clipper_conf\"][\"window_size\"]\n",
    "        update_cache_rate = [rc[\"ratio\"] for rc in results[\"ratio_counters\"] if rc[\"name\"] == \"update_cache_hits\"][0]\n",
    "        update_thruput = [m[\"rate\"] for m in results[\"meters\"] if m[\"name\"] == \"update_thruput\"][0]\n",
    "    return (cache_off, window_size, update_cache_rate, update_thruput)\n",
    "#         print results\n",
    "#         print \"\"\n",
    "#         print conf\n",
    "\n",
    "extracted_results = [get_results(e) for e in exp_names]        \n",
    "#         print results\n",
    "#         goodput = [t[\"rate\"] for t in results[\"meters\"] if t[\"name\"] == \"logistic_reg:cache_included_thruput\"][0]\n",
    "#         print goodput\n",
    "#         hit_rate = [h[\"ratio\"] for h in results[\"ratio_counters\"] if h[\"name\"] == \"cache_hits\"][0]\n",
    "#         thruput = [h[\"rate\"] for h in results[\"meters\"] if h[\"name\"] == \"spark_svm:cache_included_thruput\"][0]\n",
    "#     return (num_reps, goodput)\n",
    "# (reps, goodputs) = zip(*[get_results(fname) for fname in results_files])"
   ]
  },
  {
   "cell_type": "code",
   "execution_count": 35,
   "metadata": {
    "collapsed": false
   },
   "outputs": [
    {
     "name": "stdout",
     "output_type": "stream",
     "text": [
      "[(True, 100, 0.0, 60.30238345468424), (True, 1, 0.0, 2545.9428345919364), (True, 20, 0.0, 297.2384845502278), (False, 100, 0.9986640898644615, 678.2967669000858), (False, 1, 0.6490521851373778, 3252.353801960164), (False, 20, 0.7393777042585673, 504.9567720631678)]\n"
     ]
    }
   ],
   "source": [
    "print extracted_results"
   ]
  },
  {
   "cell_type": "code",
   "execution_count": 36,
   "metadata": {
    "collapsed": false
   },
   "outputs": [
    {
     "data": {
      "image/png": "[encoded data removed]",
      "text/plain": [
       "<matplotlib.figure.Figure at 0x1150fe8d0>"
      ]
     },
     "metadata": {},
     "output_type": "display_data"
    }
   ],
   "source": [
    "def reorder(c):\n",
    "    unzipped = zip(*c)\n",
    "    merged = zip(unzipped[1], unzipped[3])\n",
    "    merged.sort()\n",
    "    return merged\n",
    "caching_off = reorder(extracted_results[:3])\n",
    "caching_on = reorder(extracted_results[3:])\n",
    "\n",
    "windows, cache_off_thrus = zip(*caching_off)\n",
    "cache_on_thrus = zip(*caching_on)[1]\n",
    "\n",
    "\n",
    "\n",
    "fig, ax = plt.subplots(figsize=(6,6))\n",
    "width = 1\n",
    "ax.bar(np.arange(len(cache_off_thrus))*width*3,  cache_on_thrus, width=width, color=\"red\", label=\"caching\")\n",
    "ax.bar(np.arange(len(cache_off_thrus))*width*3 + 1,  cache_off_thrus, width=width, color=\"blue\", label=\"no caching\")\n",
    "\n",
    "\n",
    "\n",
    "\n",
    "# thrus = [(m[\"name\"].split(\":\")[0], m[\"rate\"]) for m in aimd_results[\"meters\"] if \"model_thruput\" in m[\"name\"]]\n",
    "# names, rates = zip(*thrus)\n",
    "# ax.bar(np.arange(len(rates))*width*4 + width,  rates, width=width, color=\"red\", label=\"aimd\")\n",
    "# ax.bar(np.arange(len(rates))*width*4 + width*2,  np.ones(len(rates))*1000, width=width, color=\"green\", label=\"NO BATCHING PLACEHOLDER\")\n",
    "\n",
    "plt.xticks(np.arange(len(cache_off_thrus))*width*3 + 1, windows)\n",
    "# ax.set_ylim(0, 11000)\n",
    "ax.legend(loc=0)\n",
    "ax.set_xlabel(\"Update Window Size\")\n",
    "ax.set_ylabel(\"Update Throughput\")\n",
    "# plt.show()\n",
    "# ax.set_title(\"Throughput\")\n",
    "plt.savefig(\"%s/caching_for_feedback_thruput.pdf\" % (fig_dir), bbox_inches='tight')"
   ]
  },
  {
   "cell_type": "code",
   "execution_count": 18,
   "metadata": {
    "collapsed": false
   },
   "outputs": [
    {
     "name": "stdout",
     "output_type": "stream",
     "text": [
      "[(1, 1650.209261221375), (20, 285.56007714837756), (100, 60.23191936775616)]\n"
     ]
    }
   ],
   "source": [
    "print caching_off"
   ]
  },
  {
   "cell_type": "code",
   "execution_count": null,
   "metadata": {
    "collapsed": true
   },
   "outputs": [],
   "source": []
  }
 ],
 "metadata": {
  "kernelspec": {
   "display_name": "Python 2",
   "language": "python",
   "name": "python2"
  },
  "language_info": {
   "codemirror_mode": {
    "name": "ipython",
    "version": 2
   },
   "file_extension": ".py",
   "mimetype": "text/x-python",
   "name": "python",
   "nbconvert_exporter": "python",
   "pygments_lexer": "ipython2",
   "version": "2.7.12"
  }
 },
 "nbformat": 4,
 "nbformat_minor": 0
}
