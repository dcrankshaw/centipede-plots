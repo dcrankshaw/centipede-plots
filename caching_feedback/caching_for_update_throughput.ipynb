{
 "cells": [
  {
   "cell_type": "code",
   "execution_count": 7,
   "metadata": {
    "collapsed": false
   },
   "outputs": [
    {
     "name": "stdout",
     "output_type": "stream",
     "text": [
      "['DEBUG_window_100_caching_OFF_160913-195823', 'DEBUG_window_100_caching_ON_160913-195655', 'DEBUG_window_1_caching_OFF_160913-195230', 'DEBUG_window_1_caching_ON_160913-195105', 'DEBUG_window_20_caching_OFF_160913-195525', 'DEBUG_window_20_caching_ON_160913-195358']\n"
     ]
    }
   ],
   "source": [
    "import json\n",
    "import numpy as np\n",
    "import matplotlib.pyplot as plt\n",
    "import os\n",
    "import pandas as pd\n",
    "import sys\n",
    "import seaborn as sns\n",
    "\n",
    "%matplotlib inline\n",
    "fig_dir = \"/Users/crankshaw/model-serving/clipper_paper/ModelServingPaper/nsdi_2017/fake-figs\"\n",
    "\n",
    "log_loc = os.path.abspath(\"/Users/crankshaw/clipper/experiments_logs/feedback_caching\")\n",
    "\n",
    "results_files = []\n",
    "for name in os.listdir(log_loc):\n",
    "    if \"results\" in name:\n",
    "        results_files.append(name)\n",
    "\n",
    "exp_names = [f.split(\"_results\")[0] for f in results_files]\n",
    "print exp_names"
   ]
  },
  {
   "cell_type": "code",
   "execution_count": 8,
   "metadata": {
    "collapsed": false
   },
   "outputs": [],
   "source": [
    "def get_results(fname):\n",
    "    res_fname = fname + \"_results.json\"\n",
    "    conf_fname = fname + \"_config.json\"\n",
    "    with open(os.path.join(log_loc, res_fname), \"r\") as rf, open(os.path.join(log_loc, conf_fname), \"r\") as cf:\n",
    "        results = json.load(rf)\n",
    "        conf = json.load(cf)\n",
    "        cache_off = conf[\"clipper_conf\"][\"salt_cache\"]\n",
    "        window_size = conf[\"clipper_conf\"][\"window_size\"]\n",
    "        update_cache_rate = [rc[\"ratio\"] for rc in results[\"ratio_counters\"] if rc[\"name\"] == \"update_cache_hits\"][0]\n",
    "        update_thruput = [m[\"rate\"] for m in results[\"meters\"] if m[\"name\"] == \"update_thruput\"][0]\n",
    "    return (cache_off, window_size, update_cache_rate, update_thruput)\n",
    "\n",
    "extracted_results = [get_results(e) for e in exp_names]"
   ]
  },
  {
   "cell_type": "code",
   "execution_count": 21,
   "metadata": {
    "collapsed": false
   },
   "outputs": [
    {
     "name": "stdout",
     "output_type": "stream",
     "text": [
      "[(True, 100, 0.0, 205.35901650344815), (False, 100, 0.9982941899065739, 617.3456204095537), (True, 1, 0.0, 6707.6534128048825), (False, 1, 0.95238593119256, 10928.837632049186), (True, 20, 0.0, 913.4545977901888), (False, 20, 0.9759193872521953, 2614.4455585241767)]\n",
      "[(False, 1, 0.95238593119256, 10928.837632049186), (False, 20, 0.9759193872521953, 2614.4455585241767), (False, 100, 0.9982941899065739, 617.3456204095537), (True, 1, 0.0, 6707.6534128048825), (True, 20, 0.0, 913.4545977901888), (True, 100, 0.0, 205.35901650344815)]\n"
     ]
    }
   ],
   "source": [
    "print extracted_results\n",
    "extracted_results.sort()\n",
    "print extracted_results"
   ]
  },
  {
   "cell_type": "code",
   "execution_count": 24,
   "metadata": {
    "collapsed": false
   },
   "outputs": [
    {
     "data": {
      "image/png": "[encoded data removed]",
      "text/plain": [
       "<matplotlib.figure.Figure at 0x117aa0e90>"
      ]
     },
     "metadata": {},
     "output_type": "display_data"
    }
   ],
   "source": [
    "# caching_state, window_size, update_rate, update_thruput = zip(*extracted_results)\n",
    "# df = pd.DataFrame({\"cache_off\": batches, \"latencies\": latencies})\n",
    "\n",
    "extracted_results.sort()\n",
    "cache_state, windows, hit_rate, cache_on_thrus = zip(*extracted_results[:3])\n",
    "cache_state, windows, hit_rate, cache_off_thrus = zip(*extracted_results[3:])\n",
    "\n",
    "\n",
    "\n",
    "\n",
    "\n",
    "# cache_state, windows, cache_off_thrus = zip(*caching_off)[0]\n",
    "# print windows\n",
    "# cache_state, windows, cache_on_thrus = zip(*caching_on)[0]\n",
    "\n",
    "# sns.set_palette(\"Paired\")\n",
    "# sns.set_style(\"whitegrid\", {\"axes.grid\": \"False\"})\n",
    "\n",
    "colors = sns.color_palette(\"Set1\", n_colors=8, desat=.5)\n",
    "\n",
    "\n",
    "fig, ax = plt.subplots(figsize=(6,6))\n",
    "sns.set_style(\"white\")\n",
    "sns.set_context(\"paper\", font_scale=1.5,)\n",
    "sns.despine()\n",
    "width = 1\n",
    "ax.bar(np.arange(len(cache_off_thrus))*width*3,  cache_on_thrus, width=width, color=colors[0], label=\"caching\")\n",
    "ax.bar(np.arange(len(cache_off_thrus))*width*3 + 1,  cache_off_thrus, width=width, color=colors[1], label=\"no caching\")\n",
    "\n",
    "\n",
    "\n",
    "\n",
    "# thrus = [(m[\"name\"].split(\":\")[0], m[\"rate\"]) for m in aimd_results[\"meters\"] if \"model_thruput\" in m[\"name\"]]\n",
    "# names, rates = zip(*thrus)\n",
    "# ax.bar(np.arange(len(rates))*width*4 + width,  rates, width=width, color=\"red\", label=\"aimd\")\n",
    "# ax.bar(np.arange(len(rates))*width*4 + width*2,  np.ones(len(rates))*1000, width=width, color=\"green\", label=\"NO BATCHING PLACEHOLDER\")\n",
    "\n",
    "plt.xticks(np.arange(len(cache_off_thrus))*width*3 + 1, windows)\n",
    "# ax.set_ylim(0, 11000)\n",
    "ax.legend(loc=0)\n",
    "ax.set_xlabel(\"Update Window Size\")\n",
    "ax.set_ylabel(\"Update Throughput\")\n",
    "# plt.show()\n",
    "# ax.set_title(\"Throughput\")\n",
    "plt.savefig(\"%s/caching_for_feedback_thruput.pdf\" % (fig_dir), bbox_inches='tight')"
   ]
  },
  {
   "cell_type": "code",
   "execution_count": 18,
   "metadata": {
    "collapsed": false
   },
   "outputs": [
    {
     "name": "stdout",
     "output_type": "stream",
     "text": [
      "[(1, 1650.209261221375), (20, 285.56007714837756), (100, 60.23191936775616)]\n"
     ]
    }
   ],
   "source": [
    "print caching_off"
   ]
  },
  {
   "cell_type": "code",
   "execution_count": null,
   "metadata": {
    "collapsed": true
   },
   "outputs": [],
   "source": []
  }
 ],
 "metadata": {
  "kernelspec": {
   "display_name": "Python 2",
   "language": "python",
   "name": "python2"
  },
  "language_info": {
   "codemirror_mode": {
    "name": "ipython",
    "version": 2
   },
   "file_extension": ".py",
   "mimetype": "text/x-python",
   "name": "python",
   "nbconvert_exporter": "python",
   "pygments_lexer": "ipython2",
   "version": "2.7.12"
  }
 },
 "nbformat": 4,
 "nbformat_minor": 0
}
