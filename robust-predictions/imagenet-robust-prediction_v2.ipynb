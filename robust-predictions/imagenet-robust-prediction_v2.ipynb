{
 "cells": [
  {
   "cell_type": "code",
   "execution_count": 49,
   "metadata": {
    "collapsed": true
   },
   "outputs": [],
   "source": [
    "import numpy as np\n",
    "import matplotlib.pyplot as plt\n",
    "import json\n",
    "import pickle\n",
    "from collections import Counter\n",
    "%matplotlib inline"
   ]
  },
  {
   "cell_type": "markdown",
   "metadata": {},
   "source": [
    "**load imagenet**"
   ]
  },
  {
   "cell_type": "markdown",
   "metadata": {},
   "source": [
    "run the following cell to put all raw feature together in one gaint file."
   ]
  },
  {
   "cell_type": "code",
   "execution_count": 3,
   "metadata": {
    "collapsed": false
   },
   "outputs": [
    {
     "name": "stdout",
     "output_type": "stream",
     "text": [
      "load all json files\n",
      "feature shapes:  (50000, 5, 1000)\n"
     ]
    }
   ],
   "source": [
    "N = 50000 # 5000 images\n",
    "d = 1000 # feature dim\n",
    "m = 5 # number of models\n",
    "features = np.zeros((N, m, d)) \n",
    "file_list = ['tf_processed.json', 'res152_pred.json', 'lenet_pred.json',  'vgg_pred.json', 'caffe_pred.json']\n",
    "raw_data = []\n",
    "for f in file_list:\n",
    "    raw_data.append(json.load(open(f,'r')))\n",
    "print 'load all json files'\n",
    "keys = raw_data[0].keys()\n",
    "for i in xrange(len(keys)):\n",
    "    key = keys[i]\n",
    "    for j in xrange(m):\n",
    "        features[i, j, :] = raw_data[j][key] \n",
    "print 'feature shapes: ', features.shape\n",
    "pickle.dump(features, open('imagenet-features.p', 'w'))"
   ]
  },
  {
   "cell_type": "code",
   "execution_count": 41,
   "metadata": {
    "collapsed": true
   },
   "outputs": [],
   "source": [
    "target = json.load(open('targets.json', 'r'))"
   ]
  },
  {
   "cell_type": "code",
   "execution_count": 43,
   "metadata": {
    "collapsed": false
   },
   "outputs": [],
   "source": [
    "ytarget = np.zeros(N)\n",
    "for i in range(len(keys)):\n",
    "    ytarget[i] = target[keys[i]]"
   ]
  },
  {
   "cell_type": "code",
   "execution_count": 45,
   "metadata": {
    "collapsed": false
   },
   "outputs": [],
   "source": [
    "np.savez(open('imagenet-features.npz','w'), x=features, y=ytarget)"
   ]
  },
  {
   "cell_type": "markdown",
   "metadata": {},
   "source": [
    "_load the .npz data directly if the cells above has been executed _"
   ]
  },
  {
   "cell_type": "markdown",
   "metadata": {},
   "source": [
    "T:R:L:V:C=0.920:0.056:0.016:0.008:0.000, 2930 misclassification, 0.058600 error rate."
   ]
  },
  {
   "cell_type": "code",
   "execution_count": 106,
   "metadata": {
    "collapsed": true
   },
   "outputs": [],
   "source": [
    "w_best = np.array([0.92, 0.056, 0.016, 0.008, 0]) "
   ]
  },
  {
   "cell_type": "code",
   "execution_count": 107,
   "metadata": {
    "collapsed": true
   },
   "outputs": [],
   "source": [
    "def ensemble(w, feature, k=5):\n",
    "    \"\"\" deal with single example\"\"\"\n",
    "    assert w.shape[0] == feature.shape[0]\n",
    "    return np.argsort(np.dot(feature.T, w))[::-1][:k]\n",
    "\n",
    "def single(feature,k=5):\n",
    "    \"\"\"return (m, k) array of the single model predictions\"\"\"\n",
    "    return np.argsort(feature, axis=1)[...,::-1][:, :k]\n",
    "\n",
    "def robust_prediction(features, target, w, k=5):\n",
    "    N, m, d = features.shape\n",
    "    error = np.zeros(N)\n",
    "    overlap =  np.zeros(N) ### maximum number of overlap for a single target\n",
    "    for i in xrange(N):\n",
    "        ensembel_pred = ensemble(w, features[i], k)\n",
    "        error[i] = int(target[i] not in ensembel_pred)\n",
    "        single_pred = single(features[i], k)\n",
    "        single_cnt = dict(Counter(single_pred.flatten().tolist()))\n",
    "        overlap[i] = max(single_cnt.values())\n",
    "    return error, overlap\n",
    "\n",
    "def error_agree(error, overlap, sure= True, k=5):\n",
    "    \"\"\"report error rate and portion\"\"\"\n",
    "    if sure:\n",
    "        error_rate = np.sum(error[overlap>=k],dtype=float)/np.sum(overlap>=k, dtype=float)\n",
    "        portion = np.sum(overlap>=k, dtype=float)/error.shape[0]\n",
    "    else:\n",
    "        error_rate = np.sum(error[overlap<k],dtype=float)/np.sum(overlap<k, dtype=float)\n",
    "        portion = np.sum(overlap<k, dtype=float)/error.shape[0]\n",
    "    return error_rate, portion"
   ]
  },
  {
   "cell_type": "code",
   "execution_count": 108,
   "metadata": {
    "collapsed": false
   },
   "outputs": [],
   "source": [
    "error, overlap = robust_prediction(features, ytarget, w_best, k=5)"
   ]
  },
  {
   "cell_type": "code",
   "execution_count": 109,
   "metadata": {
    "collapsed": false
   },
   "outputs": [
    {
     "data": {
      "text/plain": [
       "0.058599999999999999"
      ]
     },
     "execution_count": 109,
     "metadata": {},
     "output_type": "execute_result"
    }
   ],
   "source": [
    "ensemble_error_rate = np.sum(error, dtype=float)/error.shape[0]\n",
    "ensemble_error_rate"
   ]
  },
  {
   "cell_type": "code",
   "execution_count": 110,
   "metadata": {
    "collapsed": false
   },
   "outputs": [
    {
     "name": "stdout",
     "output_type": "stream",
     "text": [
      "0.0327146006685 0.84366\n"
     ]
    }
   ],
   "source": [
    "error_five_agree, portion_five_agree = error_agree(error, overlap, k=5)\n",
    "print error_five_agree, portion_five_agree"
   ]
  },
  {
   "cell_type": "code",
   "execution_count": 111,
   "metadata": {
    "collapsed": false
   },
   "outputs": [
    {
     "name": "stdout",
     "output_type": "stream",
     "text": [
      "0.0468665077971 0.95676\n"
     ]
    }
   ],
   "source": [
    "error_four_agree, portion_four_agree = error_agree(error, overlap, k=4)\n",
    "print error_four_agree, portion_four_agree"
   ]
  },
  {
   "cell_type": "code",
   "execution_count": null,
   "metadata": {
    "collapsed": false
   },
   "outputs": [],
   "source": []
  },
  {
   "cell_type": "markdown",
   "metadata": {},
   "source": [
    "**plot robust prediction**"
   ]
  },
  {
   "cell_type": "code",
   "execution_count": 139,
   "metadata": {
    "collapsed": false
   },
   "outputs": [
    {
     "data": {
      "image/png": "[encoded data removed]",
      "text/plain": [
       "<matplotlib.figure.Figure at 0x2f5865610>"
      ]
     },
     "metadata": {},
     "output_type": "display_data"
    }
   ],
   "source": [
    "fig, ax = plt.subplots()\n",
    "\n",
    "four_agree_c = error_agree(error, overlap, sure=True, k=4) ## the second is the proportion\n",
    "four_agree_u = error_agree(error, overlap, sure=False, k=4)\n",
    "\n",
    "five_agree_c = error_agree(error, overlap, sure=True, k=5) ## the second is the proportion\n",
    "five_agree_u = error_agree(error, overlap, sure=False, k=5)\n",
    "\n",
    "ensemble_ac = np.sum(error, dtype=float)/error.shape[0]\n",
    "\n",
    "bar_width = 0.3\n",
    "opacity = 0.4\n",
    "\n",
    "thin_bar = 0.08\n",
    "original_acc = [0.0618,  0.0902,  0.1152, 0.1305, 0.2061]\n",
    "original_acc.reverse() ### put the best model in the end\n",
    "\n",
    "for i in range(len(original_acc)):\n",
    "    if i == 0:\n",
    "        rects0 = plt.bar(thin_bar*(i+1), original_acc[i], thin_bar, alpha=opacity, color='y', label='single model')\n",
    "    else:\n",
    "        plt.bar(thin_bar*(i+1), original_acc[i], thin_bar, alpha=opacity, color='y')\n",
    "\n",
    "    \n",
    "rects1 = plt.bar(0.5+bar_width, ensemble_ac, bar_width, alpha=opacity, color='g', label='ensemble')\n",
    "rects2 = plt.bar(1.2+bar_width, four_agree_c[0], four_agree_c[1]*bar_width,  alpha=opacity, color='b', label='confident')\n",
    "rects3 = plt.bar(1.202+bar_width*2, four_agree_u[0], four_agree_u[1]*bar_width,  alpha=opacity, color='r', label='unsure')\n",
    "plt.bar(1.95+bar_width, five_agree_c[0], five_agree_c[1]*bar_width,  alpha=opacity, color='b')\n",
    "plt.bar(2.2+bar_width, five_agree_u[0], five_agree_u[1]*bar_width,  alpha=opacity, color='r')\n",
    "\n",
    "\n",
    "plt.ylabel('top 5 error rate')\n",
    "ax.set_ylim([0.0,0.5])\n",
    "\n",
    "first_legend = plt.legend(handles=[rects0,rects1], loc=2)\n",
    "axx = plt.gca().add_artist(first_legend)\n",
    "second_legend = plt.legend(handles=[rects2,rects3], loc=1)\n",
    "\n",
    "\n",
    "ind = np.array([0.3,1,1.7,2.4])\n",
    "plt.xticks(ind, ('single model', 'ensemble', '4-overlap', '5-overlap'))\n",
    "\n",
    "cnt = 0\n",
    "for p in ax.patches:\n",
    "    if cnt >=4:\n",
    "        ax.annotate(str(np.round(float(p.get_height()),4)), (p.get_x() * 1.01, p.get_height() * 1.01))\n",
    "    cnt += 1\n",
    "plt.savefig('imagenet_ensemble_confidence_plot.pdf')"
   ]
  },
  {
   "cell_type": "code",
   "execution_count": null,
   "metadata": {
    "collapsed": false
   },
   "outputs": [],
   "source": []
  },
  {
   "cell_type": "code",
   "execution_count": null,
   "metadata": {
    "collapsed": true
   },
   "outputs": [],
   "source": []
  }
 ],
 "metadata": {
  "kernelspec": {
   "display_name": "Python 2",
   "language": "python",
   "name": "python2"
  },
  "language_info": {
   "codemirror_mode": {
    "name": "ipython",
    "version": 2
   },
   "file_extension": ".py",
   "mimetype": "text/x-python",
   "name": "python",
   "nbconvert_exporter": "python",
   "pygments_lexer": "ipython2",
   "version": "2.7.11"
  }
 },
 "nbformat": 4,
 "nbformat_minor": 0
}
