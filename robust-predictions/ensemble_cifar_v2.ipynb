{
 "cells": [
  {
   "cell_type": "code",
   "execution_count": 49,
   "metadata": {
    "collapsed": true
   },
   "outputs": [],
   "source": [
    "import numpy as np\n",
    "import tensorflow as tf\n",
    "import matplotlib.pyplot as plt\n",
    "import json\n",
    "%matplotlib inline"
   ]
  },
  {
   "cell_type": "code",
   "execution_count": 57,
   "metadata": {
    "collapsed": true
   },
   "outputs": [],
   "source": [
    "def softmax(x):\n",
    "    expx = np.exp(x - x.max())\n",
    "    Z = expx.sum(1)\n",
    "    a = expx / Z[:, np.newaxis]\n",
    "    return a "
   ]
  },
  {
   "cell_type": "code",
   "execution_count": 67,
   "metadata": {
    "collapsed": true
   },
   "outputs": [],
   "source": [
    "X = np.zeros((10000,50))\n",
    "for i in range(5):\n",
    "    feature = np.load(open('cifar_prob_features'+str(i+1)+'.npz', 'r'))['arr_0']\n",
    "    X[:,(i*10):(i+1)*10] = softmax(feature)\n",
    "y = np.load(open('targets.npz', 'r'))['arr_0'].astype('int32')\n",
    "yhot = np.zeros((len(y), int(y.max()) +1))\n",
    "yhot[np.arange(len(y)), y[:,0]] = 1"
   ]
  },
  {
   "cell_type": "code",
   "execution_count": 68,
   "metadata": {
    "collapsed": false
   },
   "outputs": [
    {
     "name": "stdout",
     "output_type": "stream",
     "text": [
      "(2000, 50) (2000, 10)\n"
     ]
    }
   ],
   "source": [
    "train_prop = 0.8\n",
    "ind = np.random.permutation(len(X))\n",
    "#ind = range(len(X))\n",
    "train_ind = ind[:int(len(X) * train_prop)]\n",
    "test_ind = ind[int(len(X) * train_prop):]\n",
    "\n",
    "X_train = X[train_ind,:]\n",
    "y_train = yhot[train_ind,:]\n",
    "\n",
    "X_test = X[test_ind, :]\n",
    "y_test = yhot[test_ind,:]\n",
    "print X_test.shape, y_test.shape"
   ]
  },
  {
   "cell_type": "code",
   "execution_count": null,
   "metadata": {
    "collapsed": false
   },
   "outputs": [],
   "source": []
  },
  {
   "cell_type": "markdown",
   "metadata": {},
   "source": [
    "**original accuracy**"
   ]
  },
  {
   "cell_type": "code",
   "execution_count": 69,
   "metadata": {
    "collapsed": false
   },
   "outputs": [
    {
     "name": "stdout",
     "output_type": "stream",
     "text": [
      "0  accuracy =  0.7575\n",
      "1  accuracy =  0.654\n",
      "2  accuracy =  0.832\n",
      "3  accuracy =  0.54\n",
      "4  accuracy =  0.9085\n"
     ]
    }
   ],
   "source": [
    "original_acc=[]\n",
    "for i in range(5):\n",
    "    acc = np.sum(np.argmax(X_test[:,i*10:(i+1)*10], axis=1) == np.argmax(y_test, axis=1))/float(y_test.shape[0])\n",
    "    print i, ' accuracy = ', acc\n",
    "    original_acc.append(acc)"
   ]
  },
  {
   "cell_type": "code",
   "execution_count": 82,
   "metadata": {
    "collapsed": true
   },
   "outputs": [],
   "source": [
    "np.savez(open('split_data.npz','w'), x_train=X_train, x_test=X_test, y_train=y_train, y_test=y_test)"
   ]
  },
  {
   "cell_type": "markdown",
   "metadata": {},
   "source": [
    "**weight averaging**"
   ]
  },
  {
   "cell_type": "code",
   "execution_count": 74,
   "metadata": {
    "collapsed": true
   },
   "outputs": [],
   "source": [
    "def eval_predictions(w):\n",
    "    cnt = 0\n",
    "    for i in range(X_test.shape[0]):\n",
    "        res = np.zeros((10,))\n",
    "        for j in range(5):\n",
    "            res += w[j]*X_test[i,j*10:(j+1)*10]\n",
    "        predicted = np.argmax(res)\n",
    "        if np.argmax(y_test[i]) == predicted:\n",
    "            cnt += 1\n",
    "    return cnt/float(X_test.shape[0])"
   ]
  },
  {
   "cell_type": "code",
   "execution_count": 81,
   "metadata": {
    "collapsed": false,
    "scrolled": true
   },
   "outputs": [
    {
     "name": "stdout",
     "output_type": "stream",
     "text": [
      "0 prediction:\n",
      "weights:  [ 0.2  0.1  0.3  0.1  0.4]  accuracy:  0.9055\n",
      "10 prediction:\n",
      "weights:  [ 0.2  0.1  0.3  0.1  0.4]  accuracy:  0.9055\n",
      "20 prediction:\n",
      "weights:  [ 0.16925837  0.04964115  0.32296651  0.04964115  0.40849282]  accuracy:  0.9105\n",
      "30 prediction:\n",
      "weights:  [ 0.16383338  0.02310723  0.34466648  0.02310723  0.44528567]  accuracy:  0.912\n",
      "40 prediction:\n",
      "weights:  [ 0.16383338  0.02310723  0.34466648  0.02310723  0.44528567]  accuracy:  0.912\n",
      "50 prediction:\n",
      "weights:  [ 0.16482788  0.          0.35562525  0.          0.47954687]  accuracy:  0.9135\n",
      "60 prediction:\n",
      "weights:  [ 0.14343391  0.          0.37832474  0.          0.47824135]  accuracy:  0.9145\n",
      "70 prediction:\n",
      "weights:  [ 0.12465265  0.          0.38277444  0.          0.49257291]  accuracy:  0.9145\n",
      "80 prediction:\n",
      "weights:  [ 0.12465265  0.          0.38277444  0.          0.49257291]  accuracy:  0.9145\n",
      "90 prediction:\n",
      "weights:  [ 0.1040139   0.          0.38766422  0.          0.50832188]  accuracy:  0.914\n",
      "100 prediction:\n",
      "weights:  [ 0.07873819  0.          0.41240874  0.          0.50885306]  accuracy:  0.914\n",
      "110 prediction:\n",
      "weights:  [ 0.07873819  0.          0.41240874  0.          0.50885306]  accuracy:  0.914\n",
      "120 prediction:\n",
      "weights:  [ 0.08635468  0.          0.42038686  0.          0.49325846]  accuracy:  0.915\n",
      "130 prediction:\n",
      "weights:  [ 0.06192822  0.          0.42899655  0.          0.50907523]  accuracy:  0.915\n",
      "140 prediction:\n",
      "weights:  [ 0.06791864  0.          0.43857924  0.          0.49350212]  accuracy:  0.9155\n",
      "150 prediction:\n",
      "weights:  [ 0.04166884  0.          0.44898818  0.          0.50934299]  accuracy:  0.9145\n",
      "160 prediction:\n",
      "weights:  [ 0.0128229   0.          0.46042657  0.          0.52675053]  accuracy:  0.914\n",
      "170 prediction:\n",
      "weights:  [ 0.          0.          0.44407121  0.          0.55592879]  accuracy:  0.9135\n",
      "180 prediction:\n",
      "weights:  [ 0.          0.          0.43266329  0.          0.56733671]  accuracy:  0.913\n",
      "190 prediction:\n",
      "weights:  [ 0.          0.          0.43266329  0.          0.56733671]  accuracy:  0.913\n"
     ]
    }
   ],
   "source": [
    "w = np.ones((5,))*0.2\n",
    "w[0] = 0.2\n",
    "w[1] = 0.1\n",
    "w[2] = 0.3\n",
    "w[3] = 0.1\n",
    "w[4] = 0.4\n",
    "acc = []\n",
    "for i in range(200):\n",
    "    cnt = 0\n",
    "    res = np.zeros((10,))\n",
    "    for j in range(5):\n",
    "        res += w[j]*X_train[i,j*10:(j+1)*10]\n",
    "    predicted = np.argmax(res)\n",
    "    if np.argmax(y_train[i])==predicted:\n",
    "        cnt += 1\n",
    "    else:\n",
    "        feature = np.zeros((5,))\n",
    "        for j in range(5):\n",
    "            feature[j] = np.argmax(X_train[i,j*10:(j+1)*10])\n",
    "            if feature[j] != np.argmax(y_train[i]):\n",
    "                w[j] -= 0.03\n",
    "                if w[j] < 0:\n",
    "                    w[j] = 0\n",
    "        total = np.sum(w)\n",
    "        for j in range(5):\n",
    "            w[j] /= total\n",
    "    ac = eval_predictions(w) \n",
    "    if i % 10 == 0:\n",
    "        print(\"%d prediction:\" % i)\n",
    "        print 'weights: ', w, \" accuracy: \", ac\n",
    "    acc.append(ac)"
   ]
  },
  {
   "cell_type": "code",
   "execution_count": null,
   "metadata": {
    "collapsed": true
   },
   "outputs": [],
   "source": []
  },
  {
   "cell_type": "markdown",
   "metadata": {},
   "source": [
    "**confidence prediction**"
   ]
  },
  {
   "cell_type": "code",
   "execution_count": 83,
   "metadata": {
    "collapsed": true
   },
   "outputs": [],
   "source": [
    "w_best = np.array([0.06791864,0,0.43857924,0.,0.49350212])"
   ]
  },
  {
   "cell_type": "code",
   "execution_count": 209,
   "metadata": {
    "collapsed": false
   },
   "outputs": [
    {
     "name": "stdout",
     "output_type": "stream",
     "text": [
      "\n"
     ]
    }
   ],
   "source": [
    "def confidence_label(x, num=3):\n",
    "    '''x is a (50,) feature'''\n",
    "    pred = []\n",
    "    for i in range(5):\n",
    "        pred.append(np.argmax(x[i*10:(i+1)*10]))\n",
    "    if len(set(pred)) <= (6-num):\n",
    "        return 1\n",
    "    else:\n",
    "        return 0"
   ]
  },
  {
   "cell_type": "code",
   "execution_count": 210,
   "metadata": {
    "collapsed": false
   },
   "outputs": [],
   "source": [
    "def ensemble_confidence_evaluation(num=3):\n",
    "    n,d = X_test.shape\n",
    "    total_c = 0\n",
    "    total_u = 0\n",
    "    correct_c = 0\n",
    "    correct_u = 0\n",
    "    for i in range(n):\n",
    "        label = confidence_label(X_test[i],num)\n",
    "        res = np.zeros((10,))\n",
    "        for j in range(5):\n",
    "            res += w_best[j]*X_test[i, j*10:(j+1)*10]\n",
    "        pred = np.argmax(res)\n",
    "        if label:\n",
    "            total_c += 1\n",
    "            if pred == np.argmax(y_test[i]):\n",
    "                correct_c += 1\n",
    "        else:\n",
    "            total_u += 1\n",
    "            if pred == np.argmax(y_test[i]):\n",
    "                correct_u += 1\n",
    "    print 'correct_c = ', correct_c, ' total_c = ', total_c, ' acc = ', float(correct_c)/total_c\n",
    "    print 'correct_u = ', correct_u, ' total_u = ', total_u, ' acc = ', float(correct_u)/total_u\n",
    "            \n",
    "            \n",
    "            "
   ]
  },
  {
   "cell_type": "code",
   "execution_count": 211,
   "metadata": {
    "collapsed": false
   },
   "outputs": [
    {
     "name": "stdout",
     "output_type": "stream",
     "text": [
      "correct_c =  1777  total_c =  1927  acc =  0.922158796056\n",
      "correct_u =  54  total_u =  73  acc =  0.739726027397\n"
     ]
    }
   ],
   "source": [
    "ensemble_confidence_evaluation(3)"
   ]
  },
  {
   "cell_type": "code",
   "execution_count": 212,
   "metadata": {
    "collapsed": false,
    "scrolled": true
   },
   "outputs": [
    {
     "name": "stdout",
     "output_type": "stream",
     "text": [
      "correct_c =  1509  total_c =  1607  acc =  0.939016801493\n",
      "correct_u =  322  total_u =  393  acc =  0.819338422392\n"
     ]
    }
   ],
   "source": [
    "ensemble_confidence_evaluation(4)"
   ]
  },
  {
   "cell_type": "code",
   "execution_count": 213,
   "metadata": {
    "collapsed": false
   },
   "outputs": [
    {
     "name": "stdout",
     "output_type": "stream",
     "text": [
      "correct_c =  791  total_c =  810  acc =  0.976543209877\n",
      "correct_u =  1040  total_u =  1190  acc =  0.873949579832\n"
     ]
    }
   ],
   "source": [
    "ensemble_confidence_evaluation(5)"
   ]
  },
  {
   "cell_type": "code",
   "execution_count": 214,
   "metadata": {
    "collapsed": false
   },
   "outputs": [
    {
     "name": "stdout",
     "output_type": "stream",
     "text": [
      "correct_c =  1829  total_c =  1993  acc =  0.917711991972\n",
      "correct_u =  2  total_u =  7  acc =  0.285714285714\n"
     ]
    }
   ],
   "source": [
    "ensemble_confidence_evaluation(2)"
   ]
  },
  {
   "cell_type": "code",
   "execution_count": 216,
   "metadata": {
    "collapsed": false
   },
   "outputs": [
    {
     "data": {
      "image/png": "[encoded data removed]",
      "text/plain": [
       "<matplotlib.figure.Figure at 0x113e849d0>"
      ]
     },
     "metadata": {},
     "output_type": "display_data"
    }
   ],
   "source": [
    "fig, ax = plt.subplots()\n",
    "\n",
    "four_agree_c = (0.9390, 0.8035)  ## the second is the proportion\n",
    "four_agree_u = (0.8193, 0.1965)\n",
    "\n",
    "five_agree_c = (0.9765, 0.405)\n",
    "five_agree_u = (0.8740, 0.595)\n",
    "\n",
    "bar_width = 0.3\n",
    "opacity = 0.4\n",
    "\n",
    "thin_bar = 0.08\n",
    "original_acc = [0.7575, 0.654, 0.832, 0.54, 0.9085]\n",
    "\n",
    "for i in range(len(original_acc)):\n",
    "    if i == 0:\n",
    "        rects0 = plt.bar(thin_bar*(i+1), original_acc[i], thin_bar, alpha=opacity, color='y', label='single model')\n",
    "    else:\n",
    "        plt.bar(thin_bar*(i+1), original_acc[i], thin_bar, alpha=opacity, color='y')\n",
    "\n",
    "    \n",
    "rects1 = plt.bar(0.5+bar_width, 0.9155, bar_width, alpha=opacity, color='g', label='ensemble')\n",
    "rects2 = plt.bar(1.2+bar_width, four_agree_c[0], four_agree_c[1]*bar_width,  alpha=opacity, color='b', label='confident')\n",
    "rects3 = plt.bar(1.15+bar_width*2, four_agree_u[0], four_agree_u[1]*bar_width,  alpha=opacity, color='r', label='unsure')\n",
    "plt.bar(1.95+bar_width, five_agree_c[0], five_agree_c[1]*bar_width,  alpha=opacity, color='b')\n",
    "plt.bar(2.07+bar_width, five_agree_u[0], five_agree_u[1]*bar_width,  alpha=opacity, color='r')\n",
    "\n",
    "\n",
    "plt.ylabel('Accuracy')\n",
    "ax.set_ylim([0.5,1.16])\n",
    "\n",
    "first_legend = plt.legend(handles=[rects0,rects1], loc=2)\n",
    "axx = plt.gca().add_artist(first_legend)\n",
    "second_legend = plt.legend(handles=[rects2,rects3], loc=1)\n",
    "\n",
    "\n",
    "ind = np.array([0.3,1,1.7,2.4])\n",
    "plt.xticks(ind, ('single model', 'ensemble', '4-agree', '5-agree'))\n",
    "\n",
    "cnt = 0\n",
    "for p in ax.patches:\n",
    "    if cnt >= 4:\n",
    "        ax.annotate(str(float(p.get_height())), (p.get_x() * 1.01, p.get_height() * 1.01))\n",
    "    cnt += 1\n",
    "plt.savefig('ensemble_confidence_plot.pdf')"
   ]
  },
  {
   "cell_type": "code",
   "execution_count": null,
   "metadata": {
    "collapsed": true
   },
   "outputs": [],
   "source": []
  }
 ],
 "metadata": {
  "kernelspec": {
   "display_name": "Python 2",
   "language": "python",
   "name": "python2"
  },
  "language_info": {
   "codemirror_mode": {
    "name": "ipython",
    "version": 2
   },
   "file_extension": ".py",
   "mimetype": "text/x-python",
   "name": "python",
   "nbconvert_exporter": "python",
   "pygments_lexer": "ipython2",
   "version": "2.7.11"
  }
 },
 "nbformat": 4,
 "nbformat_minor": 0
}
