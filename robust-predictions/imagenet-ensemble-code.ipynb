{
 "cells": [
  {
   "cell_type": "code",
   "execution_count": 1,
   "metadata": {
    "collapsed": true
   },
   "outputs": [],
   "source": [
    "import json\n",
    "import numpy as np"
   ]
  },
  {
   "cell_type": "code",
   "execution_count": 2,
   "metadata": {
    "collapsed": false
   },
   "outputs": [],
   "source": [
    "#### import all predictions\n",
    "tf_pred = json.load(open('tf_processed.json','r'))"
   ]
  },
  {
   "cell_type": "code",
   "execution_count": 3,
   "metadata": {
    "collapsed": true
   },
   "outputs": [],
   "source": [
    "res_pred = json.load(open('res152_pred.json','r'))"
   ]
  },
  {
   "cell_type": "code",
   "execution_count": 4,
   "metadata": {
    "collapsed": true
   },
   "outputs": [],
   "source": [
    "vgg_pred = json.load(open('vgg_pred.json','r'))"
   ]
  },
  {
   "cell_type": "code",
   "execution_count": 5,
   "metadata": {
    "collapsed": true
   },
   "outputs": [],
   "source": [
    "le_pred = json.load(open('lenet_pred.json','r'))"
   ]
  },
  {
   "cell_type": "code",
   "execution_count": 6,
   "metadata": {
    "collapsed": true
   },
   "outputs": [],
   "source": [
    "cf_pred = json.load(open('caffe_pred.json','r'))"
   ]
  },
  {
   "cell_type": "code",
   "execution_count": 7,
   "metadata": {
    "collapsed": true
   },
   "outputs": [],
   "source": [
    "targets = json.load(open('targets.json','r'))"
   ]
  },
  {
   "cell_type": "code",
   "execution_count": 8,
   "metadata": {
    "collapsed": true
   },
   "outputs": [],
   "source": [
    "def mixture(t,r,v,l,c):\n",
    "    error_mix = [0]*len(t)\n",
    "    for k,tv in tf_pred.items():\n",
    "        target = targets[k]\n",
    "        tv = np.array(tv)\n",
    "        rv = np.array(res_pred[k])\n",
    "        vv = np.array(vgg_pred[k])\n",
    "        lv = np.array(le_pred[k])\n",
    "        cv = np.array(cf_pred[k])\n",
    "        for i in range(len(t)):\n",
    "            mix = t[i]*tv+r[i]*rv+v[i]*vv+l[i]*lv+c[i]*cv\n",
    "            top_k = mix.argsort()[::-1][:5]\n",
    "            if target not in top_k:\n",
    "                error_mix[i]+=1\n",
    "    \n",
    "    for i in range(len(t)):\n",
    "        er = float(error_mix[i])/len(tf_pred)\n",
    "        print \"T:R:L:V:C=%.3f:%.3f:%.3f:%.3f:%.3f, %d misclassification, %f error rate.\" % (t[i],r[i],l[i],v[i],c[i],error_mix[i],er)\n"
   ]
  },
  {
   "cell_type": "code",
   "execution_count": 17,
   "metadata": {
    "collapsed": true
   },
   "outputs": [],
   "source": [
    "def mixture_confidence(t,r,v,l,c):\n",
    "    error_mix = [0]*len(t)\n",
    "    for k,tv in tf_pred.items():\n",
    "        target = targets[k]\n",
    "        tv = np.array(tv)\n",
    "        rv = np.array(res_pred[k])\n",
    "        vv = np.array(vgg_pred[k])\n",
    "        lv = np.array(le_pred[k])\n",
    "        cv = np.array(cf_pred[k])\n",
    "        for i in range(len(t)):\n",
    "            mix = t[i]*tv+r[i]*rv+v[i]*vv+l[i]*lv+c[i]*cv\n",
    "            top_k = mix.argsort()[::-1][:1]\n",
    "            if target == top_k:\n",
    "                error_mix[i]+=1\n",
    "    \n",
    "    for i in range(len(t)):\n",
    "        er = float(error_mix[i])/len(tf_pred)\n",
    "        print \"T:R:L:V:C=%.3f:%.3f:%.3f:%.3f:%.3f, %d correct classification, %f accuracy rate.\" % (t[i],r[i],l[i],v[i],c[i],error_mix[i],er)\n"
   ]
  },
  {
   "cell_type": "code",
   "execution_count": null,
   "metadata": {
    "collapsed": true
   },
   "outputs": [],
   "source": []
  },
  {
   "cell_type": "code",
   "execution_count": 15,
   "metadata": {
    "collapsed": true
   },
   "outputs": [],
   "source": [
    "def top_1_accuracy():\n",
    "    count = np.zeros((5,))\n",
    "    for k, tv in tf_pred.items():\n",
    "        target = targets[k]\n",
    "        tv = np.array(tv)\n",
    "        top1_tv = np.argmax(tv)\n",
    "        if top1_tv == target:\n",
    "            count[0] += 1\n",
    "        rv = np.array(res_pred[k])\n",
    "        top1_rv = np.argmax(rv)\n",
    "        if top1_rv == target:\n",
    "            count[1] += 1\n",
    "        vv = np.array(vgg_pred[k])\n",
    "        top1_vv = np.argmax(vv)\n",
    "        if top1_vv == target:\n",
    "            count[2] += 1\n",
    "        lv = np.array(le_pred[k])\n",
    "        top1_lv = np.argmax(lv)\n",
    "        if top1_lv == target:\n",
    "            count[3] += 1\n",
    "        cv = np.array(cf_pred[k])\n",
    "        top1_cv = np.argmax(cv)\n",
    "        if top1_cv == target:\n",
    "            count[4] += 1\n",
    "        \n",
    "    print('total {} predictions'.format(len(tf_pred)))\n",
    "    print('correct predictions: ', count)\n",
    "    print('accuracy: ', count/float(len(tf_pred)))\n",
    "        \n",
    "        "
   ]
  },
  {
   "cell_type": "code",
   "execution_count": 16,
   "metadata": {
    "collapsed": false
   },
   "outputs": [
    {
     "name": "stdout",
     "output_type": "stream",
     "text": [
      "total 50000 predictions\n",
      "('correct predictions: ', array([ 38806.,  36462.,  33075.,  34012.,  28014.]))\n",
      "('accuracy: ', array([ 0.77612,  0.72924,  0.6615 ,  0.68024,  0.56028]))\n"
     ]
    }
   ],
   "source": [
    "top_1_accuracy()"
   ]
  },
  {
   "cell_type": "code",
   "execution_count": null,
   "metadata": {
    "collapsed": true
   },
   "outputs": [],
   "source": []
  },
  {
   "cell_type": "code",
   "execution_count": null,
   "metadata": {
    "collapsed": true
   },
   "outputs": [],
   "source": []
  },
  {
   "cell_type": "code",
   "execution_count": 21,
   "metadata": {
    "collapsed": false
   },
   "outputs": [],
   "source": [
    "tp = [0.91,0.92,0.93,0.94,0.95,0.96,0.97,0.98,0.99]\n",
    "\n",
    "base = [0.9,0.8,0.7,0.6,0.5,0.4,0.3,0.2,0.1]\n",
    "rp = [0.7*i for i in base]\n",
    "lp = [0.2*i for i in base]\n",
    "vp = [0.1*i for i in base]\n",
    "cp = [0]*9"
   ]
  },
  {
   "cell_type": "code",
   "execution_count": 22,
   "metadata": {
    "collapsed": false
   },
   "outputs": [
    {
     "name": "stdout",
     "output_type": "stream",
     "text": [
      "T:R:L:V:C=0.910:0.630:0.180:0.090:0.000, 39193 correct classification, 0.783860 accuracy rate.\n",
      "T:R:L:V:C=0.920:0.560:0.160:0.080:0.000, 39257 correct classification, 0.785140 accuracy rate.\n",
      "T:R:L:V:C=0.930:0.490:0.140:0.070:0.000, 39293 correct classification, 0.785860 accuracy rate.\n",
      "T:R:L:V:C=0.940:0.420:0.120:0.060:0.000, 39284 correct classification, 0.785680 accuracy rate.\n",
      "T:R:L:V:C=0.950:0.350:0.100:0.050:0.000, 39270 correct classification, 0.785400 accuracy rate.\n",
      "T:R:L:V:C=0.960:0.280:0.080:0.040:0.000, 39238 correct classification, 0.784760 accuracy rate.\n",
      "T:R:L:V:C=0.970:0.210:0.060:0.030:0.000, 39176 correct classification, 0.783520 accuracy rate.\n",
      "T:R:L:V:C=0.980:0.140:0.040:0.020:0.000, 39081 correct classification, 0.781620 accuracy rate.\n",
      "T:R:L:V:C=0.990:0.070:0.020:0.010:0.000, 38944 correct classification, 0.778880 accuracy rate.\n"
     ]
    }
   ],
   "source": [
    "mixture_confidence(tp,rp,vp,lp,cp)"
   ]
  },
  {
   "cell_type": "code",
   "execution_count": 29,
   "metadata": {
    "collapsed": false
   },
   "outputs": [
    {
     "name": "stdout",
     "output_type": "stream",
     "text": [
      "T:R:L:V:C=0.910:0.630:0.180:0.090:0.000, 3051 misclassification, 0.061020 error rate.\n",
      "T:R:L:V:C=0.920:0.560:0.160:0.080:0.000, 3028 misclassification, 0.060560 error rate.\n",
      "T:R:L:V:C=0.930:0.490:0.140:0.070:0.000, 3002 misclassification, 0.060040 error rate.\n",
      "T:R:L:V:C=0.940:0.420:0.120:0.060:0.000, 2998 misclassification, 0.059960 error rate.\n",
      "T:R:L:V:C=0.950:0.350:0.100:0.050:0.000, 2994 misclassification, 0.059880 error rate.\n",
      "T:R:L:V:C=0.960:0.280:0.080:0.040:0.000, 2975 misclassification, 0.059500 error rate.\n",
      "T:R:L:V:C=0.970:0.210:0.060:0.030:0.000, 2978 misclassification, 0.059560 error rate.\n",
      "T:R:L:V:C=0.980:0.140:0.040:0.020:0.000, 2959 misclassification, 0.059180 error rate.\n",
      "T:R:L:V:C=0.990:0.070:0.020:0.010:0.000, 2944 misclassification, 0.058880 error rate.\n"
     ]
    }
   ],
   "source": [
    "mixture(tp,rp,vp,lp,cp)"
   ]
  },
  {
   "cell_type": "code",
   "execution_count": null,
   "metadata": {
    "collapsed": true
   },
   "outputs": [],
   "source": []
  },
  {
   "cell_type": "markdown",
   "metadata": {},
   "source": [
    "**confidence prediction**"
   ]
  },
  {
   "cell_type": "code",
   "execution_count": 38,
   "metadata": {
    "collapsed": true
   },
   "outputs": [],
   "source": [
    "w_best = np.array([0.930,0.490,0.140,0.070,0]) ### T:R:L:V:C\n",
    "ensemble_acc = 0.7859"
   ]
  },
  {
   "cell_type": "code",
   "execution_count": 29,
   "metadata": {
    "collapsed": true
   },
   "outputs": [],
   "source": [
    "def ensemble_confidence_evaluation(num=3):\n",
    "    total_c = 0\n",
    "    total_u = 0\n",
    "    correct_c = 0\n",
    "    correct_u = 0\n",
    "    \n",
    "    for k, tv in tf_pred.items():\n",
    "        target = targets[k]\n",
    "        tv = np.array(tv)\n",
    "        pred_tv = np.argmax(tv)\n",
    "        rv = np.array(res_pred[k])\n",
    "        pred_rv = np.argmax(rv)\n",
    "        lv = np.array(le_pred[k])\n",
    "        pred_lv = np.argmax(lv)\n",
    "        vv = np.array(vgg_pred[k])\n",
    "        pred_vv = np.argmax(vv)\n",
    "        cv = np.array(cf_pred[k])\n",
    "        pred_cv = np.argmax(cv)\n",
    "        \n",
    "        res = w_best[0]*tv + w_best[1]*rv + w_best[2]*lv + w_best[3]*vv + w_best[4]*cv\n",
    "        pred = np.argmax(res)\n",
    "        if len(set([pred_tv, pred_rv, pred_lv, pred_vv, pred_cv])) <= (6-num):\n",
    "            total_c += 1\n",
    "            if pred == target:\n",
    "                correct_c += 1\n",
    "        else:\n",
    "            total_u += 1\n",
    "            if pred == target:\n",
    "                correct_u += 1\n",
    "    \n",
    "    print('total_c = {}, correct_c = {}, acc = {}'.format(total_c, correct_c, float(correct_c)/total_c))\n",
    "    print('total_u = {}, correct_u = {}, acc = {}'.format(total_u, correct_u, float(correct_u)/total_u))\n",
    "    "
   ]
  },
  {
   "cell_type": "code",
   "execution_count": 30,
   "metadata": {
    "collapsed": false
   },
   "outputs": [
    {
     "name": "stdout",
     "output_type": "stream",
     "text": [
      "total_c = 44421, correct_c = 36979, acc = 0.832466626145\n",
      "total_u = 5579, correct_u = 2314, acc = 0.414769671984\n"
     ]
    }
   ],
   "source": [
    "ensemble_confidence_evaluation(num=3)"
   ]
  },
  {
   "cell_type": "code",
   "execution_count": 31,
   "metadata": {
    "collapsed": false
   },
   "outputs": [
    {
     "name": "stdout",
     "output_type": "stream",
     "text": [
      "total_c = 37033, correct_c = 32464, acc = 0.876623551967\n",
      "total_u = 12967, correct_u = 6829, acc = 0.526644559266\n"
     ]
    }
   ],
   "source": [
    "ensemble_confidence_evaluation(num=4)"
   ]
  },
  {
   "cell_type": "code",
   "execution_count": 32,
   "metadata": {
    "collapsed": false
   },
   "outputs": [
    {
     "name": "stdout",
     "output_type": "stream",
     "text": [
      "total_c = 24223, correct_c = 22637, acc = 0.934525038187\n",
      "total_u = 25777, correct_u = 16656, acc = 0.646157427164\n"
     ]
    }
   ],
   "source": [
    "ensemble_confidence_evaluation(num=5)"
   ]
  },
  {
   "cell_type": "code",
   "execution_count": 37,
   "metadata": {
    "collapsed": false
   },
   "outputs": [
    {
     "data": {
      "text/plain": [
       "0.51554"
      ]
     },
     "execution_count": 37,
     "metadata": {},
     "output_type": "execute_result"
    }
   ],
   "source": [
    "1-24223/50000.0"
   ]
  },
  {
   "cell_type": "markdown",
   "metadata": {},
   "source": [
    "**robust prediction plot**"
   ]
  },
  {
   "cell_type": "code",
   "execution_count": 40,
   "metadata": {
    "collapsed": true
   },
   "outputs": [],
   "source": [
    "import matplotlib.pyplot as plt\n",
    "%matplotlib inline"
   ]
  },
  {
   "cell_type": "code",
   "execution_count": 47,
   "metadata": {
    "collapsed": false
   },
   "outputs": [
    {
     "data": {
      "image/png": "[encoded data removed]",
      "text/plain": [
       "<matplotlib.figure.Figure at 0x280023650>"
      ]
     },
     "metadata": {},
     "output_type": "display_data"
    }
   ],
   "source": [
    "original_acc = [ 0.72924,  0.6615 ,  0.68024,  0.56028, 0.77612]\n",
    "\n",
    "fig, ax = plt.subplots()\n",
    "four_agree_c = (0.8766, 0.74066)  ## the second is the proportion\n",
    "four_agree_u = (0.5266, 0.25934)\n",
    "\n",
    "five_agree_c = (0.9345, 0.48446)\n",
    "five_agree_u = (0.6462, 0.51554)\n",
    "\n",
    "bar_width = 0.3\n",
    "opacity = 0.4\n",
    "\n",
    "thin_bar = 0.08\n",
    "\n",
    "for i in range(len(original_acc)):\n",
    "    if i == 0:\n",
    "        rects0 = plt.bar(thin_bar*(i+1), original_acc[i], thin_bar, alpha=opacity, color='y', label='single model')\n",
    "    else:\n",
    "        plt.bar(thin_bar*(i+1), original_acc[i], thin_bar, alpha=opacity, color='y')\n",
    "\n",
    "    \n",
    "rects1 = plt.bar(0.5+bar_width, ensemble_acc, bar_width, alpha=opacity, color='g', label='ensemble')\n",
    "rects2 = plt.bar(1.2+bar_width, four_agree_c[0], four_agree_c[1]*bar_width,  alpha=opacity, color='b', label='confident')\n",
    "rects3 = plt.bar(1.12+bar_width*2, four_agree_u[0], four_agree_u[1]*bar_width,  alpha=opacity, color='r', label='unconfident')\n",
    "plt.bar(1.95+bar_width, five_agree_c[0], five_agree_c[1]*bar_width,  alpha=opacity, color='b')\n",
    "plt.bar(2.1+bar_width, five_agree_u[0], five_agree_u[1]*bar_width,  alpha=opacity, color='r')\n",
    "\n",
    "\n",
    "plt.ylabel('Top-1 Accuracy')\n",
    "ax.set_ylim([0.5,1.1])\n",
    "\n",
    "first_legend = plt.legend(handles=[rects0,rects1], loc=2)\n",
    "axx = plt.gca().add_artist(first_legend)\n",
    "second_legend = plt.legend(handles=[rects2,rects3], loc=1)\n",
    "\n",
    "\n",
    "ind = np.array([0.3,1,1.7,2.4])\n",
    "plt.xticks(ind, ('single model', 'ensemble', '4-agree', '5-agree'))\n",
    "\n",
    "cnt = 0\n",
    "for p in ax.patches:\n",
    "    if cnt >= 4:\n",
    "        ax.annotate(str(float(p.get_height())), (p.get_x() * 1.01, p.get_height() * 1.01))\n",
    "    cnt += 1\n",
    "plt.savefig('/Users/xinw/Documents/2016Fall/clipper/imagenet_ensemble_confidence_plot.pdf')\n",
    "\n"
   ]
  },
  {
   "cell_type": "code",
   "execution_count": null,
   "metadata": {
    "collapsed": true
   },
   "outputs": [],
   "source": []
  },
  {
   "cell_type": "code",
   "execution_count": null,
   "metadata": {
    "collapsed": true
   },
   "outputs": [],
   "source": []
  },
  {
   "cell_type": "code",
   "execution_count": null,
   "metadata": {
    "collapsed": true
   },
   "outputs": [],
   "source": []
  },
  {
   "cell_type": "code",
   "execution_count": null,
   "metadata": {
    "collapsed": true
   },
   "outputs": [],
   "source": []
  },
  {
   "cell_type": "code",
   "execution_count": null,
   "metadata": {
    "collapsed": true
   },
   "outputs": [],
   "source": []
  },
  {
   "cell_type": "markdown",
   "metadata": {
    "collapsed": true
   },
   "source": [
    "import matplotlib.pyplot as plt"
   ]
  },
  {
   "cell_type": "markdown",
   "metadata": {
    "collapsed": false
   },
   "source": [
    "fig, ax = plt.subplots()\n",
    "ind = np.arange(5)\n",
    "error = (6525,5760,4512,3088,2930)\n",
    "width = 0.35       # the width of the bars\n",
    "rects1 = ax.bar(ind, error, width)\n",
    "\n",
    "\n",
    "# add some text for labels, title and axes ticks\n",
    "ax.set_ylabel('misclassification')\n",
    "ax.set_xticks(ind + width)\n",
    "ax.set_xticklabels(('VGG(caffe)', 'Lenet(caffe)', 'Resnet(caffe)', 'Inception v3(tensorflow)', 'mixture'))\n",
    "\n",
    "\n",
    "def autolabel(rects):\n",
    "    # attach some text labels\n",
    "    for rect in rects:\n",
    "        height = rect.get_height()\n",
    "        ax.text(rect.get_x() + rect.get_width()/2., 1.05*height,\n",
    "                '%d' % int(height),\n",
    "                ha='center', va='bottom')\n",
    "\n",
    "autolabel(rects1)\n",
    "\n",
    "plt.show()"
   ]
  },
  {
   "cell_type": "code",
   "execution_count": null,
   "metadata": {
    "collapsed": true
   },
   "outputs": [],
   "source": []
  }
 ],
 "metadata": {
  "kernelspec": {
   "display_name": "Python 2",
   "language": "python",
   "name": "python2"
  },
  "language_info": {
   "codemirror_mode": {
    "name": "ipython",
    "version": 2
   },
   "file_extension": ".py",
   "mimetype": "text/x-python",
   "name": "python",
   "nbconvert_exporter": "python",
   "pygments_lexer": "ipython2",
   "version": "2.7.11"
  }
 },
 "nbformat": 4,
 "nbformat_minor": 0
}
