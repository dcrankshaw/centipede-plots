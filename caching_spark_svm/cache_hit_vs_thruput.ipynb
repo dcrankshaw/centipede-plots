{
 "cells": [
  {
   "cell_type": "code",
   "execution_count": 22,
   "metadata": {
    "collapsed": true
   },
   "outputs": [],
   "source": [
    "import json\n",
    "import numpy as np\n",
    "import matplotlib.pyplot as plt\n",
    "import os\n",
    "import pandas as pd\n",
    "import sys\n",
    "%matplotlib inline\n",
    "fig_dir = \"/Users/crankshaw/model-serving/clipper_paper/ModelServingPaper/nsdi_2017/fake-figs\"\n"
   ]
  },
  {
   "cell_type": "code",
   "execution_count": 3,
   "metadata": {
    "collapsed": false
   },
   "outputs": [],
   "source": [
    "results_files = []\n",
    "for name in os.listdir(\".\"):\n",
    "    if \"results\" in name:\n",
    "        results_files.append(name)\n"
   ]
  },
  {
   "cell_type": "code",
   "execution_count": 4,
   "metadata": {
    "collapsed": false
   },
   "outputs": [
    {
     "name": "stdout",
     "output_type": "stream",
     "text": [
      "['cache_hit_rate_0_hitrate_160905-193132_results.json', 'cache_hit_rate_100_hitrate_160905-212421_results.json', 'cache_hit_rate_10_hitrate_160905-194229_results.json', 'cache_hit_rate_20_hitrate_160905-195510_results.json', 'cache_hit_rate_30_hitrate_160905-200237_results.json', 'cache_hit_rate_40_hitrate_160905-201812_results.json', 'cache_hit_rate_50_hitrate_160905-202833_results.json', 'cache_hit_rate_60_hitrate_160905-203537_results.json', 'cache_hit_rate_70_hitrate_160905-210900_results.json', 'cache_hit_rate_80_hitrate_160905-210158_results.json', 'cache_hit_rate_90_hitrate_160905-211624_results.json']\n"
     ]
    }
   ],
   "source": [
    "print results_files"
   ]
  },
  {
   "cell_type": "code",
   "execution_count": 15,
   "metadata": {
    "collapsed": false
   },
   "outputs": [
    {
     "name": "stdout",
     "output_type": "stream",
     "text": [
      "(0.0, 0.9999168, 0.098076, 0.198766, 0.2982, 0.397036, 0.497983, 0.598553, 0.697965, 0.797838, 0.89862575)\n",
      "(6759.517598147793, 105974.09346713693, 7607.691689737199, 8685.700313600602, 9988.75351831372, 12103.26505300138, 14572.07173623121, 18623.674862446933, 24150.837193878953, 37761.96604787021, 79473.38178766223)\n"
     ]
    }
   ],
   "source": [
    "def get_results(fname):\n",
    "    with open(fname, \"r\") as f:\n",
    "        results = json.load(f)\n",
    "        hit_rate = [h[\"ratio\"] for h in results[\"ratio_counters\"] if h[\"name\"] == \"cache_hits\"][0]\n",
    "#         print results[\"meters\"]\n",
    "        thruput = [h[\"rate\"] for h in results[\"meters\"] if h[\"name\"] == \"spark_svm:cache_included_thruput\"][0]\n",
    "    return (hit_rate, thruput)\n",
    "\n",
    "\n"
   ]
  },
  {
   "cell_type": "code",
   "execution_count": 23,
   "metadata": {
    "collapsed": false
   },
   "outputs": [
    {
     "data": {
      "image/png": "[encoded data removed]",
      "text/plain": [
       "<matplotlib.figure.Figure at 0x114f69d10>"
      ]
     },
     "metadata": {},
     "output_type": "display_data"
    }
   ],
   "source": [
    "extracted_results = [get_results(cur_file) for cur_file in results_files]\n",
    "extracted_results.sort()\n",
    "\n",
    "\n",
    "\n",
    "hit_rates, thruputs = zip(*extracted_results)\n",
    "fig, ax = plt.subplots()\n",
    "ax.plot(hit_rates, thruputs, label=\"pyspark svm\")\n",
    "# xs = np.arange(0, 1.1, 0.1)\n",
    "# ys = 7500 + 106000*xs\n",
    "# ax.plot(xs, ys, label=\"upper bound\")\n",
    "ax.set_xlabel(\"cache hit rate\")\n",
    "ax.set_ylabel(\"Throughput\")\n",
    "ax.legend(loc=0)\n",
    "ax.set_xlim(0.0, 1.0)\n",
    "plt.savefig(\"%s/pred_thru_vs_cache_hit_rate.pdf\" % (fig_dir), bbox_inches='tight')\n",
    "plt.show()"
   ]
  },
  {
   "cell_type": "code",
   "execution_count": null,
   "metadata": {
    "collapsed": true
   },
   "outputs": [],
   "source": []
  }
 ],
 "metadata": {
  "kernelspec": {
   "display_name": "Python 2",
   "language": "python",
   "name": "python2"
  },
  "language_info": {
   "codemirror_mode": {
    "name": "ipython",
    "version": 2
   },
   "file_extension": ".py",
   "mimetype": "text/x-python",
   "name": "python",
   "nbconvert_exporter": "python",
   "pygments_lexer": "ipython2",
   "version": "2.7.12"
  }
 },
 "nbformat": 4,
 "nbformat_minor": 0
}
