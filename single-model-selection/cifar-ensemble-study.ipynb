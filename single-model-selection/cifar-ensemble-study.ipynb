{
 "cells": [
  {
   "cell_type": "code",
   "execution_count": 1,
   "metadata": {
    "collapsed": false
   },
   "outputs": [],
   "source": [
    "import numpy as np\n",
    "import tensorflow as tf\n",
    "import matplotlib.pyplot as plt\n",
    "import json\n",
    "\n",
    "%matplotlib inline"
   ]
  },
  {
   "cell_type": "markdown",
   "metadata": {},
   "source": [
    "# Load the data"
   ]
  },
  {
   "cell_type": "code",
   "execution_count": 2,
   "metadata": {
    "collapsed": false
   },
   "outputs": [
    {
     "name": "stdout",
     "output_type": "stream",
     "text": [
      "Using Paper data\n"
     ]
    }
   ],
   "source": [
    "use_paper_data = True\n",
    "if use_paper_data:\n",
    "    print(\"Using Paper data\")\n",
    "    data = np.load(open(\"./data/split_data.npz\", \"rb\"))\n",
    "    x_train = data['x_train']\n",
    "    x_test = data['x_test']\n",
    "    y_train = data['y_train']\n",
    "    y_test = data['y_test']\n",
    "else:\n",
    "    print(\"reloading data\")\n",
    "    X = np.zeros((10000,50))\n",
    "    data_path = \"./data/clipper-cifar\"\n",
    "    for i in range(5):\n",
    "        feature = np.load(open(data_path + '/cifar_prob_features'+str(i+1)+'.npz.zip', 'r'))['arr_0']\n",
    "        X[:,(i*10):(i+1)*10] = softmax(feature)\n",
    "    y = np.load(open(data_path + '/targets.npz.zip', 'r'))['arr_0'].astype('int32')\n",
    "    yhot = np.zeros((len(y), int(y.max()) +1))\n",
    "    yhot[np.arange(len(y)), y[:,0]] = 1\n",
    "\n",
    "    train_prop = 0.8\n",
    "    ind = np.random.permutation(len(X))\n",
    "    #ind = range(len(X))\n",
    "    train_ind = ind[:int(len(X) * train_prop)]\n",
    "    test_ind = ind[int(len(X) * train_prop):]\n",
    "\n",
    "    X_train = X[train_ind,:]\n",
    "    y_train = yhot[train_ind,:]\n",
    "\n",
    "    X_test = X[test_ind, :]\n",
    "    y_test = yhot[test_ind,:]\n",
    "    print X_test.shape, y_test.shape"
   ]
  },
  {
   "cell_type": "markdown",
   "metadata": {},
   "source": [
    "# Test individual models"
   ]
  },
  {
   "cell_type": "code",
   "execution_count": 3,
   "metadata": {
    "collapsed": false
   },
   "outputs": [],
   "source": [
    "def predict(w, x):\n",
    "    (n,kd) = x.shape\n",
    "    k = len(w)\n",
    "    d = kd/k\n",
    "    Z = np.swapaxes(np.reshape(x, [n,k,d]),1,2)\n",
    "    return np.reshape(Z.dot(w), [n,d])\n",
    "\n",
    "def compute_accuracy(yhat, y):\n",
    "    return np.mean(np.argmax(yhat,1) == np.argmax(y,1))\n"
   ]
  },
  {
   "cell_type": "code",
   "execution_count": 4,
   "metadata": {
    "collapsed": false
   },
   "outputs": [
    {
     "name": "stdout",
     "output_type": "stream",
     "text": [
      "0.7575\n",
      "0.654\n",
      "0.832\n",
      "0.54\n",
      "0.9085\n"
     ]
    }
   ],
   "source": [
    "k = 5\n",
    "baseline_accuracy = np.zeros(5)\n",
    "for i in range(k):\n",
    "    w = np.zeros(k)\n",
    "    w[i] = 1.\n",
    "    yhat = predict(w, x_test)\n",
    "    baseline_accuracy[i] = compute_accuracy(yhat, y_test)\n",
    "    print baseline_accuracy[i]"
   ]
  },
  {
   "cell_type": "markdown",
   "metadata": {},
   "source": [
    "# Try Scikit Learn"
   ]
  },
  {
   "cell_type": "code",
   "execution_count": 5,
   "metadata": {
    "collapsed": false
   },
   "outputs": [],
   "source": [
    "import sklearn.linear_model as lm"
   ]
  },
  {
   "cell_type": "markdown",
   "metadata": {},
   "source": [
    "Fit a multinomial loss logistic regression (cross-entropy) model on all 50 dimensions:"
   ]
  },
  {
   "cell_type": "code",
   "execution_count": 6,
   "metadata": {
    "collapsed": false
   },
   "outputs": [
    {
     "data": {
      "text/plain": [
       "0.91149999999999998"
      ]
     },
     "execution_count": 6,
     "metadata": {},
     "output_type": "execute_result"
    }
   ],
   "source": [
    "model = lm.LogisticRegression(multi_class='multinomial', solver='newton-cg')\n",
    "model.fit(x_train, np.argmax(y_train,1))\n",
    "np.mean(model.predict(x_test) == np.argmax(y_test,1))"
   ]
  },
  {
   "cell_type": "markdown",
   "metadata": {},
   "source": [
    "# Try  Tensorflow to constrain to ensemble with just k=5 parameters"
   ]
  },
  {
   "cell_type": "code",
   "execution_count": 7,
   "metadata": {
    "collapsed": true
   },
   "outputs": [],
   "source": [
    "k = 5\n",
    "(n,kd) = x_train.shape\n",
    "d = kd/k\n",
    "assert len(y_train) == n"
   ]
  },
  {
   "cell_type": "code",
   "execution_count": 8,
   "metadata": {
    "collapsed": true
   },
   "outputs": [],
   "source": [
    "def weight_variable(shape):\n",
    "    return tf.Variable(tf.truncated_normal(shape, stddev=0.1, dtype=tf.float32))\n",
    "def bias_variable(shape):\n",
    "    return tf.Variable(tf.constant(0.1, shape=shape, dtype=tf.float32))"
   ]
  },
  {
   "cell_type": "markdown",
   "metadata": {},
   "source": [
    "Reshaping data to be n matrices (d,k)"
   ]
  },
  {
   "cell_type": "code",
   "execution_count": 9,
   "metadata": {
    "collapsed": false
   },
   "outputs": [],
   "source": [
    "z_train = np.swapaxes(np.reshape(x_train, [n,k,d]),1,2)\n",
    "z_test = np.swapaxes(np.reshape(x_test, [len(x_test),k,d]),1,2)"
   ]
  },
  {
   "cell_type": "markdown",
   "metadata": {},
   "source": [
    "reproducing the earlier predictions"
   ]
  },
  {
   "cell_type": "code",
   "execution_count": 10,
   "metadata": {
    "collapsed": false
   },
   "outputs": [
    {
     "name": "stdout",
     "output_type": "stream",
     "text": [
      "0.7575\n",
      "0.654\n",
      "0.832\n",
      "0.54\n",
      "0.9085\n"
     ]
    }
   ],
   "source": [
    "z = tf.placeholder(tf.float32, shape=(None, d, k))\n",
    "w = weight_variable([k])\n",
    "r = tf.reduce_sum(tf.mul(z,w),reduction_indices=[2])\n",
    "\n",
    "init = tf.initialize_all_variables()\n",
    "sess = tf.Session()\n",
    "sess.run(init)\n",
    "\n",
    "k = 5\n",
    "for i in range(k):\n",
    "    wv = np.zeros(k)\n",
    "    wv[i] = 1.\n",
    "    yhat = sess.run(r, feed_dict={z: z_test, w: wv})\n",
    "    ac = compute_accuracy(yhat, y_test)\n",
    "    print ac\n"
   ]
  },
  {
   "cell_type": "code",
   "execution_count": 11,
   "metadata": {
    "collapsed": false
   },
   "outputs": [],
   "source": [
    "z = tf.placeholder(tf.float32, shape=(None, d, k))\n",
    "w = weight_variable([k])\n",
    "b = bias_variable([d])\n",
    "q = tf.reduce_sum(tf.mul(z,w),reduction_indices=[2]) + b\n",
    "y = tf.nn.softmax(q)\n",
    "y_ = tf.placeholder(tf.float32, [None, 10])\n",
    "cross_entropy = tf.reduce_mean(-tf.reduce_sum(y_ * tf.log(y), reduction_indices=[1]))\n",
    "correct_prediction = tf.equal(tf.argmax(y,1), tf.argmax(y_,1))\n",
    "accuracy = tf.reduce_mean(tf.cast(correct_prediction, tf.float64))"
   ]
  },
  {
   "cell_type": "code",
   "execution_count": 12,
   "metadata": {
    "collapsed": false,
    "scrolled": false
   },
   "outputs": [
    {
     "name": "stdout",
     "output_type": "stream",
     "text": [
      "(0.91500000000000004, 0.89449999999999996)\n"
     ]
    },
    {
     "data": {
      "image/png": "[encoded data removed]",
      "text/plain": [
       "<matplotlib.figure.Figure at 0x10bfb2a90>"
      ]
     },
     "metadata": {},
     "output_type": "display_data"
    }
   ],
   "source": [
    "train_step = tf.train.GradientDescentOptimizer(1.0).minimize(cross_entropy)\n",
    "init = tf.initialize_all_variables()\n",
    "sess = tf.Session()\n",
    "sess.run(init)\n",
    "n = len(z_train)\n",
    "ind = np.random.permutation(n)\n",
    "def batch_ind(i):\n",
    "    bs = 100\n",
    "    index = i % int(np.ceil(float(n) / bs))\n",
    "    low = index * bs\n",
    "    high = np.min([(index + 1) * bs, n])\n",
    "    return ind[low:high]\n",
    "\n",
    "niter = 500\n",
    "test_acc = np.zeros(niter)\n",
    "train_acc = np.zeros(niter)\n",
    "for i in range(niter):\n",
    "#         with sess.as_default():\n",
    "#             print(W.eval())\n",
    "    sess.run(train_step, feed_dict={z: z_train[batch_ind(i),:,:], y_: y_train[batch_ind(i),:]})\n",
    "    train_acc[i] = sess.run(accuracy, feed_dict={z: z_train, y_: y_train})\n",
    "    test_acc[i] = sess.run(accuracy, feed_dict={z: z_test, y_: y_test})\n",
    "\n",
    "plt.plot(np.arange(niter), test_acc, 'b', np.arange(niter), train_acc, 'r')\n",
    "plt.legend([\"train\", \"test\"])\n",
    "print(test_acc.max(), train_acc.max())"
   ]
  },
  {
   "cell_type": "code",
   "execution_count": 13,
   "metadata": {
    "collapsed": false
   },
   "outputs": [
    {
     "name": "stdout",
     "output_type": "stream",
     "text": [
      "[ 0.83282006  0.63355911  1.9974072   0.47542179  3.17676187]\n"
     ]
    },
    {
     "data": {
      "text/plain": [
       "0.91300000000000003"
      ]
     },
     "execution_count": 13,
     "metadata": {},
     "output_type": "execute_result"
    }
   ],
   "source": [
    "best_w= np.array(sess.run(w))\n",
    "print(best_w)\n",
    "compute_accuracy(predict(best_w, x_test), y_test)"
   ]
  },
  {
   "cell_type": "markdown",
   "metadata": {},
   "source": [
    "**confidence prediction**"
   ]
  },
  {
   "cell_type": "code",
   "execution_count": 14,
   "metadata": {
    "collapsed": false
   },
   "outputs": [
    {
     "name": "stdout",
     "output_type": "stream",
     "text": [
      "[ 0.83282006  0.63355911  1.9974072   0.47542179  3.17676187]\n"
     ]
    }
   ],
   "source": [
    "# w_best = np.array([0.06791864,0,0.43857924,0.,0.49350212])\n",
    "w_best = best_w\n",
    "print(w_best)"
   ]
  },
  {
   "cell_type": "code",
   "execution_count": 15,
   "metadata": {
    "collapsed": false
   },
   "outputs": [],
   "source": [
    "yhat = np.zeros([len(y_test),k],dtype='int32')\n",
    "for i in range(k):\n",
    "    w = np.zeros(k)\n",
    "    w[i] = 1.0\n",
    "    yhat[:,i] = np.argmax(predict(w, x_test),axis=1)\n",
    "\n",
    "agree = np.array([np.bincount(labels).max() for labels in yhat])\n",
    "acc = np.argmax(predict(w_best, x_test),axis=1) == np.argmax(y_test,axis=1)\n"
   ]
  },
  {
   "cell_type": "code",
   "execution_count": 20,
   "metadata": {
    "collapsed": false
   },
   "outputs": [
    {
     "data": {
      "image/png": "[encoded data removed]",
      "text/plain": [
       "<matplotlib.figure.Figure at 0x10dd3ccd0>"
      ]
     },
     "metadata": {},
     "output_type": "display_data"
    }
   ],
   "source": [
    "fig, ax = plt.subplots()\n",
    "\n",
    "four_agree_c = (np.around(np.mean(acc[agree >= 4]), 4), np.mean(agree >= 4))  ## the second is the proportion\n",
    "four_agree_u = (np.around(np.mean(acc[agree < 4]), 4),  np.mean(agree < 4))\n",
    "\n",
    "five_agree_c = (np.around(np.mean(acc[agree >= 5]),4), np.mean(agree >= 5))  ## the second is the proportion\n",
    "five_agree_u = (np.around(np.mean(acc[agree < 5]), 4),  np.mean(agree < 5))\n",
    "\n",
    "\n",
    "bar_width = 0.3\n",
    "opacity = 0.4\n",
    "\n",
    "thin_bar = 0.08\n",
    "original_acc = [0.7575, 0.654, 0.832, 0.54, 0.9085]\n",
    "\n",
    "for i in range(len(original_acc)):\n",
    "    if i == 0:\n",
    "        rects0 = plt.bar(thin_bar*(i+1), original_acc[i], thin_bar, alpha=opacity, color='y', label='single model')\n",
    "    else:\n",
    "        plt.bar(thin_bar*(i+1), original_acc[i], thin_bar, alpha=opacity, color='y')\n",
    "\n",
    "    \n",
    "rects1 = plt.bar(0.5+bar_width, np.mean(acc), bar_width, alpha=opacity, color='g', label='ensemble')\n",
    "rects2 = plt.bar(1.2+bar_width, four_agree_c[0], four_agree_c[1]*bar_width,  alpha=opacity, color='b', label='confident')\n",
    "rects3 = plt.bar(1.15+bar_width*2, four_agree_u[0], four_agree_u[1]*bar_width,  alpha=opacity, color='r', label='unsure')\n",
    "plt.bar(1.95+bar_width, five_agree_c[0], five_agree_c[1]*bar_width,  alpha=opacity, color='b')\n",
    "plt.bar(2.07+bar_width, five_agree_u[0], five_agree_u[1]*bar_width,  alpha=opacity, color='r')\n",
    "\n",
    "\n",
    "plt.ylabel('Accuracy')\n",
    "ax.set_ylim([0.5,1.16])\n",
    "\n",
    "first_legend = plt.legend(handles=[rects0,rects1], loc=2)\n",
    "axx = plt.gca().add_artist(first_legend)\n",
    "second_legend = plt.legend(handles=[rects2,rects3], loc=1)\n",
    "\n",
    "\n",
    "ind = np.array([0.3,1,1.7,2.4])\n",
    "plt.xticks(ind, ('single model', 'ensemble', '4-agree', '5-agree'))\n",
    "\n",
    "cnt = 0\n",
    "for p in ax.patches:\n",
    "    if cnt >= 4:\n",
    "        ax.annotate(str(float(p.get_height())), (p.get_x() * 1.01, p.get_height() * 1.01))\n",
    "    cnt += 1\n",
    "plt.savefig('ensemble_confidence_plot.pdf')"
   ]
  },
  {
   "cell_type": "code",
   "execution_count": null,
   "metadata": {
    "collapsed": true
   },
   "outputs": [],
   "source": []
  }
 ],
 "metadata": {
  "kernelspec": {
   "display_name": "Python 2",
   "language": "python",
   "name": "python2"
  },
  "language_info": {
   "codemirror_mode": {
    "name": "ipython",
    "version": 2
   },
   "file_extension": ".py",
   "mimetype": "text/x-python",
   "name": "python",
   "nbconvert_exporter": "python",
   "pygments_lexer": "ipython2",
   "version": "2.7.12"
  }
 },
 "nbformat": 4,
 "nbformat_minor": 0
}
