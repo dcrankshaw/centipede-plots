{
 "cells": [
  {
   "cell_type": "code",
   "execution_count": 14,
   "metadata": {
    "collapsed": true
   },
   "outputs": [],
   "source": [
    "import json\n",
    "import numpy as np\n",
    "import matplotlib.pyplot as plt\n",
    "import os\n",
    "import pandas as pd\n",
    "import sys\n",
    "%matplotlib inline\n",
    "fig_dir = \"/Users/crankshaw/model-serving/clipper_paper/ModelServingPaper/nsdi_2017/fake-figs\"\n",
    "\n",
    "results_files = []\n",
    "for name in os.listdir(\".\"):\n",
    "    if \"results\" in name:\n",
    "        results_files.append(name)"
   ]
  },
  {
   "cell_type": "code",
   "execution_count": 15,
   "metadata": {
    "collapsed": false
   },
   "outputs": [],
   "source": [
    "def get_results(fname):\n",
    "    with open(fname, \"r\") as f:\n",
    "        results = json.load(f)\n",
    "        num_reps = int(fname.split(\"_\")[2])\n",
    "#         print results\n",
    "        goodput = [t[\"rate\"] for t in results[\"meters\"] if t[\"name\"] == \"logistic_reg:cache_included_thruput\"][0]\n",
    "#         print goodput\n",
    "#         hit_rate = [h[\"ratio\"] for h in results[\"ratio_counters\"] if h[\"name\"] == \"cache_hits\"][0]\n",
    "#         thruput = [h[\"rate\"] for h in results[\"meters\"] if h[\"name\"] == \"spark_svm:cache_included_thruput\"][0]\n",
    "    return (num_reps, goodput)\n",
    "(reps, goodputs) = zip(*[get_results(fname) for fname in results_files])"
   ]
  },
  {
   "cell_type": "code",
   "execution_count": 16,
   "metadata": {
    "collapsed": false
   },
   "outputs": [
    {
     "name": "stdout",
     "output_type": "stream",
     "text": [
      "[(1, 8121.325812109526), (2, 17324.128094471067), (4, 33070.075606134866), (8, 59515.46812355802), (12, 78387.6631844278), (16, 81906.76017808888), (20, 86090.07952004934)]\n",
      "\n",
      "(1, 2, 4, 8, 12, 16, 20) (8121.325812109526, 17324.128094471067, 33070.075606134866, 59515.46812355802, 78387.6631844278, 81906.76017808888, 86090.07952004934)\n"
     ]
    }
   ],
   "source": [
    "extracted_res = [get_results(fname) for fname in results_files]\n",
    "extracted_res.sort()\n",
    "print extracted_res\n",
    "print \"\"\n",
    "(reps, goodputs) = zip(*extracted_res)\n",
    "print reps, goodputs"
   ]
  },
  {
   "cell_type": "code",
   "execution_count": 18,
   "metadata": {
    "collapsed": false
   },
   "outputs": [
    {
     "data": {
      "image/png": "[encoded data removed]",
      "text/plain": [
       "<matplotlib.figure.Figure at 0x10d360c90>"
      ]
     },
     "metadata": {},
     "output_type": "display_data"
    }
   ],
   "source": [
    "fig, ax = plt.subplots()\n",
    "ax.plot(reps, goodputs, label=\"sklearn log regression\")\n",
    "# xs = np.arange(0, 1.1, 0.1)\n",
    "# ys = 7500 + 106000*xs\n",
    "# ax.plot(xs, ys, label=\"upper bound\")\n",
    "ax.set_xlabel(\"number of replicas\")\n",
    "ax.set_ylabel(\"Goodput\")\n",
    "ax.legend(loc=0)\n",
    "# ax.set_xlim(0.0, 1.0)\n",
    "plt.savefig(\"%s/pred_thruput_vs_num_replicas_single_node.pdf\" % (fig_dir), bbox_inches='tight')\n",
    "plt.show()"
   ]
  },
  {
   "cell_type": "code",
   "execution_count": null,
   "metadata": {
    "collapsed": true
   },
   "outputs": [],
   "source": []
  }
 ],
 "metadata": {
  "kernelspec": {
   "display_name": "Python 2",
   "language": "python",
   "name": "python2"
  },
  "language_info": {
   "codemirror_mode": {
    "name": "ipython",
    "version": 2
   },
   "file_extension": ".py",
   "mimetype": "text/x-python",
   "name": "python",
   "nbconvert_exporter": "python",
   "pygments_lexer": "ipython2",
   "version": "2.7.12"
  }
 },
 "nbformat": 4,
 "nbformat_minor": 0
}
